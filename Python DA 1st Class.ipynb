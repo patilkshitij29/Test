{
 "cells": [
  {
   "cell_type": "markdown",
   "id": "93b642b3-6596-4a8d-8305-95dd3ea35c1f",
   "metadata": {},
   "source": [
    "# Variables"
   ]
  },
  {
   "cell_type": "code",
   "execution_count": 2,
   "id": "6ebdd799-0bb5-4ed7-858f-352e8c1110a7",
   "metadata": {},
   "outputs": [
    {
     "name": "stdout",
     "output_type": "stream",
     "text": [
      "kshitij Patil\n"
     ]
    }
   ],
   "source": [
    "print(\"kshitij Patil\")"
   ]
  },
  {
   "cell_type": "code",
   "execution_count": null,
   "id": "b1667e1f-b4eb-4bc8-98e0-e9f5ba4407d3",
   "metadata": {},
   "outputs": [],
   "source": []
  },
  {
   "cell_type": "markdown",
   "id": "5c0ed0f3-7947-49ac-b6c0-6cf7601ef6f9",
   "metadata": {},
   "source": [
    "# Arithmatic Variables"
   ]
  },
  {
   "cell_type": "code",
   "execution_count": 4,
   "id": "86a1e10a-70d0-4ec8-90cf-a30cf2ad9d7a",
   "metadata": {},
   "outputs": [
    {
     "name": "stdout",
     "output_type": "stream",
     "text": [
      "10\n",
      "20\n",
      "30\n"
     ]
    }
   ],
   "source": [
    "a = 10\n",
    "b = 20\n",
    "t = a + b\n",
    "\n",
    "print(a)\n",
    "print(b)\n",
    "print(t)"
   ]
  },
  {
   "cell_type": "code",
   "execution_count": 5,
   "id": "113ace6c-190f-476b-bd7c-1889a2b5880f",
   "metadata": {},
   "outputs": [
    {
     "name": "stdout",
     "output_type": "stream",
     "text": [
      "10\n",
      "20\n",
      "30\n"
     ]
    }
   ],
   "source": [
    "d = 10\n",
    "e = 20\n",
    "print(d)\n",
    "print(e)\n",
    "c = d + e\n",
    "print(c)"
   ]
  },
  {
   "cell_type": "code",
   "execution_count": 6,
   "id": "2aecd747-b21a-4e87-9b2a-077bb25811b7",
   "metadata": {},
   "outputs": [
    {
     "data": {
      "text/plain": [
       "121"
      ]
     },
     "execution_count": 6,
     "metadata": {},
     "output_type": "execute_result"
    }
   ],
   "source": [
    "k = 55\n",
    "j = 66\n",
    "k + j"
   ]
  },
  {
   "cell_type": "markdown",
   "id": "3bba2524-c96b-45e1-878a-e448dc33cf30",
   "metadata": {},
   "source": [
    "# division / operator will return quotient value"
   ]
  },
  {
   "cell_type": "code",
   "execution_count": 8,
   "id": "97a25bc3-aa22-41e8-9dfd-b97ef3ef8631",
   "metadata": {},
   "outputs": [
    {
     "data": {
      "text/plain": [
       "5.0"
      ]
     },
     "execution_count": 8,
     "metadata": {},
     "output_type": "execute_result"
    }
   ],
   "source": [
    "a = 100\n",
    "b = 20\n",
    "a/b"
   ]
  },
  {
   "cell_type": "markdown",
   "id": "12b08b58-8214-432e-a3cc-52acbddf6021",
   "metadata": {},
   "source": [
    "# division % operator will return reminder value"
   ]
  },
  {
   "cell_type": "code",
   "execution_count": 10,
   "id": "c6366fa9-c52f-440f-af68-cb59f60f6994",
   "metadata": {},
   "outputs": [
    {
     "data": {
      "text/plain": [
       "0"
      ]
     },
     "execution_count": 10,
     "metadata": {},
     "output_type": "execute_result"
    }
   ],
   "source": [
    "a%b"
   ]
  },
  {
   "cell_type": "code",
   "execution_count": 11,
   "id": "f70bea9a-547a-4587-9002-d642ce056ae5",
   "metadata": {},
   "outputs": [
    {
     "name": "stdout",
     "output_type": "stream",
     "text": [
      "10.0 2.7144176165949063\n"
     ]
    }
   ],
   "source": [
    "sq_a = a**(1/2)\n",
    "sq_b = b**(1/3)\n",
    "print(sq_a , sq_b)\n"
   ]
  },
  {
   "cell_type": "markdown",
   "id": "886ca8ae-3f48-4686-895b-e979d671f245",
   "metadata": {},
   "source": [
    "# type casting"
   ]
  },
  {
   "cell_type": "code",
   "execution_count": 13,
   "id": "a8bb2187-3267-47a6-83f6-02c1c6a17914",
   "metadata": {},
   "outputs": [
    {
     "data": {
      "text/plain": [
       "int"
      ]
     },
     "execution_count": 13,
     "metadata": {},
     "output_type": "execute_result"
    }
   ],
   "source": [
    "type(a)"
   ]
  },
  {
   "cell_type": "code",
   "execution_count": 14,
   "id": "79ee2ace-4070-47fd-9dbb-de3a9bcdb5df",
   "metadata": {},
   "outputs": [
    {
     "name": "stdout",
     "output_type": "stream",
     "text": [
      "kshititrj\n"
     ]
    },
    {
     "data": {
      "text/plain": [
       "str"
      ]
     },
     "execution_count": 14,
     "metadata": {},
     "output_type": "execute_result"
    }
   ],
   "source": [
    "name = \"kshititrj\"\n",
    "print(name)\n",
    "type(name)"
   ]
  },
  {
   "cell_type": "markdown",
   "id": "3ce33e0e-d830-4baa-b9ed-41cb767d4af0",
   "metadata": {},
   "source": [
    "# Keywords"
   ]
  },
  {
   "cell_type": "code",
   "execution_count": 16,
   "id": "a0c127a7-32b4-4435-bc0a-2462733b0917",
   "metadata": {},
   "outputs": [
    {
     "data": {
      "text/plain": [
       "['False',\n",
       " 'None',\n",
       " 'True',\n",
       " 'and',\n",
       " 'as',\n",
       " 'assert',\n",
       " 'async',\n",
       " 'await',\n",
       " 'break',\n",
       " 'class',\n",
       " 'continue',\n",
       " 'def',\n",
       " 'del',\n",
       " 'elif',\n",
       " 'else',\n",
       " 'except',\n",
       " 'finally',\n",
       " 'for',\n",
       " 'from',\n",
       " 'global',\n",
       " 'if',\n",
       " 'import',\n",
       " 'in',\n",
       " 'is',\n",
       " 'lambda',\n",
       " 'nonlocal',\n",
       " 'not',\n",
       " 'or',\n",
       " 'pass',\n",
       " 'raise',\n",
       " 'return',\n",
       " 'try',\n",
       " 'while',\n",
       " 'with',\n",
       " 'yield']"
      ]
     },
     "execution_count": 16,
     "metadata": {},
     "output_type": "execute_result"
    }
   ],
   "source": [
    "import keyword\n",
    "keyword.kwlist"
   ]
  },
  {
   "cell_type": "code",
   "execution_count": 17,
   "id": "6558ca39-03f7-4302-a2e0-5b6daa4a63a7",
   "metadata": {},
   "outputs": [
    {
     "name": "stdout",
     "output_type": "stream",
     "text": [
      "KShitij PAtil\n"
     ]
    }
   ],
   "source": [
    "name  = \"KShitij\"\n",
    "surname = \"PAtil\"\n",
    "print(name + \" \" + surname)"
   ]
  },
  {
   "cell_type": "code",
   "execution_count": 18,
   "id": "e3f385e8-9834-400e-ae07-931d52aa8581",
   "metadata": {},
   "outputs": [
    {
     "name": "stdout",
     "output_type": "stream",
     "text": [
      "KShitij PAtil\n"
     ]
    }
   ],
   "source": [
    "print(name , surname)"
   ]
  },
  {
   "cell_type": "code",
   "execution_count": 19,
   "id": "04b8abca-cdf9-471b-af66-0abac5486760",
   "metadata": {},
   "outputs": [
    {
     "name": "stdout",
     "output_type": "stream",
     "text": [
      "KShitij PAtil\n"
     ]
    }
   ],
   "source": [
    "full_name = name + \" \" + surname\n",
    "print(full_name)"
   ]
  },
  {
   "cell_type": "code",
   "execution_count": 20,
   "id": "a75c6da9-d191-4efa-94f8-0d740a9db981",
   "metadata": {},
   "outputs": [
    {
     "name": "stdout",
     "output_type": "stream",
     "text": [
      "KShitijPAtil\n"
     ]
    }
   ],
   "source": [
    "full_name = name +  surname\n",
    "print(full_name)"
   ]
  },
  {
   "cell_type": "code",
   "execution_count": 21,
   "id": "c7ec5bdd-43f1-47f0-9f34-4732a702223e",
   "metadata": {},
   "outputs": [],
   "source": [
    "# Data Types"
   ]
  },
  {
   "cell_type": "code",
   "execution_count": 22,
   "id": "0d8a7196-1834-4f7b-b8c1-c7f813484630",
   "metadata": {},
   "outputs": [
    {
     "data": {
      "text/plain": [
       "100"
      ]
     },
     "execution_count": 22,
     "metadata": {},
     "output_type": "execute_result"
    }
   ],
   "source": [
    "a "
   ]
  },
  {
   "cell_type": "code",
   "execution_count": 23,
   "id": "ad770ea3-c6e6-4061-bfc7-c4a0a5af3ed9",
   "metadata": {},
   "outputs": [
    {
     "data": {
      "text/plain": [
       "int"
      ]
     },
     "execution_count": 23,
     "metadata": {},
     "output_type": "execute_result"
    }
   ],
   "source": [
    "type(a)"
   ]
  },
  {
   "cell_type": "code",
   "execution_count": 24,
   "id": "35e43567-9d66-49d6-9b72-a92f74fcc3c4",
   "metadata": {},
   "outputs": [
    {
     "data": {
      "text/plain": [
       "20"
      ]
     },
     "execution_count": 24,
     "metadata": {},
     "output_type": "execute_result"
    }
   ],
   "source": [
    "b"
   ]
  },
  {
   "cell_type": "code",
   "execution_count": 25,
   "id": "f59acc27-2129-4886-b26b-0c3b06a54cb6",
   "metadata": {},
   "outputs": [
    {
     "data": {
      "text/plain": [
       "120"
      ]
     },
     "execution_count": 25,
     "metadata": {},
     "output_type": "execute_result"
    }
   ],
   "source": [
    "a + b"
   ]
  },
  {
   "cell_type": "code",
   "execution_count": 26,
   "id": "1ebde080-9478-40aa-834c-e71a3e3283ae",
   "metadata": {},
   "outputs": [
    {
     "data": {
      "text/plain": [
       "80"
      ]
     },
     "execution_count": 26,
     "metadata": {},
     "output_type": "execute_result"
    }
   ],
   "source": [
    "a - b"
   ]
  },
  {
   "cell_type": "code",
   "execution_count": 27,
   "id": "f0b23e8d-a5bd-4b9e-80ce-52cc87d5d07e",
   "metadata": {},
   "outputs": [
    {
     "data": {
      "text/plain": [
       "5.0"
      ]
     },
     "execution_count": 27,
     "metadata": {},
     "output_type": "execute_result"
    }
   ],
   "source": [
    "a/b"
   ]
  },
  {
   "cell_type": "code",
   "execution_count": 28,
   "id": "fea70f53-5e77-4edc-a44b-4fe5490f782d",
   "metadata": {},
   "outputs": [
    {
     "data": {
      "text/plain": [
       "2000"
      ]
     },
     "execution_count": 28,
     "metadata": {},
     "output_type": "execute_result"
    }
   ],
   "source": [
    "a*b"
   ]
  },
  {
   "cell_type": "code",
   "execution_count": 29,
   "id": "e40126a4-507d-4320-acd7-e5260a6aefaa",
   "metadata": {},
   "outputs": [
    {
     "data": {
      "text/plain": [
       "0"
      ]
     },
     "execution_count": 29,
     "metadata": {},
     "output_type": "execute_result"
    }
   ],
   "source": [
    "a%b"
   ]
  },
  {
   "cell_type": "code",
   "execution_count": 30,
   "id": "d96a73d6-a17f-4426-8360-602d1abf9678",
   "metadata": {},
   "outputs": [
    {
     "data": {
      "text/plain": [
       "2"
      ]
     },
     "execution_count": 30,
     "metadata": {},
     "output_type": "execute_result"
    }
   ],
   "source": [
    "23%7"
   ]
  },
  {
   "cell_type": "code",
   "execution_count": 31,
   "id": "20ef8d42-f647-4681-951c-cf1f24874f15",
   "metadata": {},
   "outputs": [
    {
     "data": {
      "text/plain": [
       "3"
      ]
     },
     "execution_count": 31,
     "metadata": {},
     "output_type": "execute_result"
    }
   ],
   "source": [
    "23//7"
   ]
  },
  {
   "cell_type": "code",
   "execution_count": 32,
   "id": "aa1cce13-bd1e-43f2-b89e-fa939d05e664",
   "metadata": {},
   "outputs": [
    {
     "data": {
      "text/plain": [
       "3.2857142857142856"
      ]
     },
     "execution_count": 32,
     "metadata": {},
     "output_type": "execute_result"
    }
   ],
   "source": [
    "23/7"
   ]
  },
  {
   "cell_type": "code",
   "execution_count": 33,
   "id": "f461f71e-6301-489f-9fc5-15e81bf908da",
   "metadata": {},
   "outputs": [
    {
     "data": {
      "text/plain": [
       "10000000000000000000000000000000000000000"
      ]
     },
     "execution_count": 33,
     "metadata": {},
     "output_type": "execute_result"
    }
   ],
   "source": [
    "a**b"
   ]
  },
  {
   "cell_type": "code",
   "execution_count": 34,
   "id": "b059873f-398b-493d-b1ed-e360097b2152",
   "metadata": {},
   "outputs": [
    {
     "data": {
      "text/plain": [
       "1000000"
      ]
     },
     "execution_count": 34,
     "metadata": {},
     "output_type": "execute_result"
    }
   ],
   "source": [
    "a**3"
   ]
  },
  {
   "cell_type": "code",
   "execution_count": 35,
   "id": "f387984c-e37f-4e2c-a143-8009c73c609c",
   "metadata": {},
   "outputs": [
    {
     "data": {
      "text/plain": [
       "3200000"
      ]
     },
     "execution_count": 35,
     "metadata": {},
     "output_type": "execute_result"
    }
   ],
   "source": [
    "b**5"
   ]
  },
  {
   "cell_type": "code",
   "execution_count": 36,
   "id": "4f560add-35cc-4342-b788-27a420a80c39",
   "metadata": {},
   "outputs": [
    {
     "data": {
      "text/plain": [
       "100000"
      ]
     },
     "execution_count": 36,
     "metadata": {},
     "output_type": "execute_result"
    }
   ],
   "source": [
    "10**5"
   ]
  },
  {
   "cell_type": "code",
   "execution_count": 37,
   "id": "bbae6f2b-6e71-485d-8306-5ddc44a16c8d",
   "metadata": {},
   "outputs": [
    {
     "name": "stdout",
     "output_type": "stream",
     "text": [
      "10.0 , 2.7144176165949063\n"
     ]
    }
   ],
   "source": [
    "sq_root_a = a**(1/2)\n",
    "cube_root_b = b**(1/3)\n",
    "print(sq_root_a , \",\" , cube_root_b)"
   ]
  },
  {
   "cell_type": "code",
   "execution_count": 38,
   "id": "ba9bf447-d5e8-4a9e-90ea-bf1e1af69e09",
   "metadata": {},
   "outputs": [
    {
     "name": "stdout",
     "output_type": "stream",
     "text": [
      "120\n",
      "80\n",
      "2000\n"
     ]
    }
   ],
   "source": [
    "print(a+b)\n",
    "print(a-b)\n",
    "print(a*b)\n"
   ]
  },
  {
   "cell_type": "code",
   "execution_count": 39,
   "id": "ec98bcb6-0750-4e02-9f45-58043ddd35a6",
   "metadata": {},
   "outputs": [
    {
     "name": "stdout",
     "output_type": "stream",
     "text": [
      "120 , 80 , 2000\n"
     ]
    }
   ],
   "source": [
    "add1 = a+b\n",
    "sub1 = a-b\n",
    "mul1 = a*b\n",
    "print(add1 , \",\" , sub1 , \",\" , mul1)"
   ]
  },
  {
   "cell_type": "code",
   "execution_count": 40,
   "id": "64c96f08-e254-4b9a-b408-eaad06854cdc",
   "metadata": {},
   "outputs": [
    {
     "data": {
      "text/plain": [
       "'KShitij'"
      ]
     },
     "execution_count": 40,
     "metadata": {},
     "output_type": "execute_result"
    }
   ],
   "source": [
    "name"
   ]
  },
  {
   "cell_type": "code",
   "execution_count": 41,
   "id": "17cf3474-d529-4b8b-8110-afd7ba0bde1d",
   "metadata": {},
   "outputs": [
    {
     "name": "stdout",
     "output_type": "stream",
     "text": [
      "KShitij\n"
     ]
    }
   ],
   "source": [
    "fname = name\n",
    "print(fname)"
   ]
  },
  {
   "cell_type": "code",
   "execution_count": 42,
   "id": "b3f5ad90-f2ae-46c5-ab09-86e6d47463cc",
   "metadata": {},
   "outputs": [
    {
     "data": {
      "text/plain": [
       "'KShitij'"
      ]
     },
     "execution_count": 42,
     "metadata": {},
     "output_type": "execute_result"
    }
   ],
   "source": [
    "fname"
   ]
  },
  {
   "cell_type": "code",
   "execution_count": 43,
   "id": "43e591f9-098d-4a15-9742-8c4471ae682c",
   "metadata": {},
   "outputs": [
    {
     "data": {
      "text/plain": [
       "'KSHITIJ'"
      ]
     },
     "execution_count": 43,
     "metadata": {},
     "output_type": "execute_result"
    }
   ],
   "source": [
    "fname.upper()"
   ]
  },
  {
   "cell_type": "code",
   "execution_count": 44,
   "id": "f8a8652d-f9c9-4524-ae5e-25424ab66941",
   "metadata": {},
   "outputs": [
    {
     "data": {
      "text/plain": [
       "'patil'"
      ]
     },
     "execution_count": 44,
     "metadata": {},
     "output_type": "execute_result"
    }
   ],
   "source": [
    "lname = \"PATIL\"\n",
    "lname.lower()"
   ]
  },
  {
   "cell_type": "code",
   "execution_count": 45,
   "id": "0e41b3d0-0189-43fe-9388-bb2ae72ca324",
   "metadata": {},
   "outputs": [
    {
     "data": {
      "text/plain": [
       "True"
      ]
     },
     "execution_count": 45,
     "metadata": {},
     "output_type": "execute_result"
    }
   ],
   "source": [
    "bool1 = True\n",
    "bool1"
   ]
  },
  {
   "cell_type": "code",
   "execution_count": 46,
   "id": "bf351389-f825-4f01-96b3-62aa32f449d9",
   "metadata": {},
   "outputs": [
    {
     "data": {
      "text/plain": [
       "False"
      ]
     },
     "execution_count": 46,
     "metadata": {},
     "output_type": "execute_result"
    }
   ],
   "source": [
    "bool2 = False\n",
    "bool2"
   ]
  },
  {
   "cell_type": "code",
   "execution_count": 47,
   "id": "6e6167ed-743f-4b66-bb4e-89e72b854c5f",
   "metadata": {},
   "outputs": [
    {
     "data": {
      "text/plain": [
       "bool"
      ]
     },
     "execution_count": 47,
     "metadata": {},
     "output_type": "execute_result"
    }
   ],
   "source": [
    "type(bool1)"
   ]
  },
  {
   "cell_type": "code",
   "execution_count": 48,
   "id": "afeccf31-2fda-40b3-84ce-8964d1e47c56",
   "metadata": {},
   "outputs": [
    {
     "data": {
      "text/plain": [
       "bool"
      ]
     },
     "execution_count": 48,
     "metadata": {},
     "output_type": "execute_result"
    }
   ],
   "source": [
    "type(bool2)"
   ]
  },
  {
   "cell_type": "code",
   "execution_count": 49,
   "id": "88c0f63c-cf49-488f-a9ba-ac47f3a812da",
   "metadata": {},
   "outputs": [
    {
     "name": "stdout",
     "output_type": "stream",
     "text": [
      "10000\n"
     ]
    }
   ],
   "source": [
    "number = \"10000\"\n",
    "print(number)"
   ]
  },
  {
   "cell_type": "code",
   "execution_count": 50,
   "id": "dff5cdf1-b7eb-4095-b4a9-39c2d60068a6",
   "metadata": {},
   "outputs": [
    {
     "name": "stdout",
     "output_type": "stream",
     "text": [
      "10000\n"
     ]
    }
   ],
   "source": [
    "type1 = int(number)\n",
    "print(type1)"
   ]
  },
  {
   "cell_type": "code",
   "execution_count": 51,
   "id": "5059855c-1688-4b34-97a1-8e74dae3f6d2",
   "metadata": {},
   "outputs": [
    {
     "data": {
      "text/plain": [
       "10000"
      ]
     },
     "execution_count": 51,
     "metadata": {},
     "output_type": "execute_result"
    }
   ],
   "source": [
    "type1"
   ]
  },
  {
   "cell_type": "code",
   "execution_count": 52,
   "id": "2b3bfb52-e65c-4c77-bff4-7474562842ca",
   "metadata": {},
   "outputs": [
    {
     "name": "stdout",
     "output_type": "stream",
     "text": [
      "1000\n"
     ]
    }
   ],
   "source": [
    "hs = 1000\n",
    "print(hs)"
   ]
  },
  {
   "cell_type": "code",
   "execution_count": 53,
   "id": "39d7f94c-0307-407b-a624-94b941b3490f",
   "metadata": {},
   "outputs": [
    {
     "data": {
      "text/plain": [
       "int"
      ]
     },
     "execution_count": 53,
     "metadata": {},
     "output_type": "execute_result"
    }
   ],
   "source": [
    "type(hs)"
   ]
  },
  {
   "cell_type": "code",
   "execution_count": 54,
   "id": "3152150f-1611-4404-bb0a-1f42805fceaa",
   "metadata": {},
   "outputs": [
    {
     "name": "stdout",
     "output_type": "stream",
     "text": [
      "jjj\n"
     ]
    }
   ],
   "source": [
    "k = \"jjj\"\n",
    "print(k)"
   ]
  },
  {
   "cell_type": "code",
   "execution_count": 55,
   "id": "a6688633-91a3-47bc-b474-39454a404531",
   "metadata": {},
   "outputs": [
    {
     "data": {
      "text/plain": [
       "str"
      ]
     },
     "execution_count": 55,
     "metadata": {},
     "output_type": "execute_result"
    }
   ],
   "source": [
    "type(k)"
   ]
  },
  {
   "cell_type": "code",
   "execution_count": 56,
   "id": "c41afec6-93ef-4a23-a95d-c8e6d8fee1f0",
   "metadata": {},
   "outputs": [],
   "source": [
    "p = \"1234\""
   ]
  },
  {
   "cell_type": "code",
   "execution_count": 57,
   "id": "d8e94f42-3c53-479f-a678-e0a8611bc790",
   "metadata": {},
   "outputs": [
    {
     "name": "stdout",
     "output_type": "stream",
     "text": [
      "1234\n"
     ]
    },
    {
     "data": {
      "text/plain": [
       "int"
      ]
     },
     "execution_count": 57,
     "metadata": {},
     "output_type": "execute_result"
    }
   ],
   "source": [
    "y = int(p)\n",
    "print(y)\n",
    "type(y)"
   ]
  },
  {
   "cell_type": "code",
   "execution_count": 58,
   "id": "311d19d0-122e-4ed7-a46a-25cca245519a",
   "metadata": {},
   "outputs": [
    {
     "data": {
      "text/plain": [
       "str"
      ]
     },
     "execution_count": 58,
     "metadata": {},
     "output_type": "execute_result"
    }
   ],
   "source": [
    "type(p)"
   ]
  },
  {
   "cell_type": "code",
   "execution_count": 59,
   "id": "0bf0e3ce-5525-483d-a769-14b10e7e7fef",
   "metadata": {},
   "outputs": [
    {
     "name": "stdout",
     "output_type": "stream",
     "text": [
      "<class 'str'>\n",
      "<class 'int'>\n"
     ]
    }
   ],
   "source": [
    "print(type(p))\n",
    "print(type(y))"
   ]
  },
  {
   "cell_type": "code",
   "execution_count": 60,
   "id": "4fc623f3-1843-429d-b995-1809c897863a",
   "metadata": {},
   "outputs": [
    {
     "data": {
      "text/plain": [
       "1234"
      ]
     },
     "execution_count": 60,
     "metadata": {},
     "output_type": "execute_result"
    }
   ],
   "source": [
    "int(p)"
   ]
  },
  {
   "cell_type": "code",
   "execution_count": 61,
   "id": "95492a4b-afcc-44a8-9901-335f1c2abc99",
   "metadata": {},
   "outputs": [
    {
     "data": {
      "text/plain": [
       "str"
      ]
     },
     "execution_count": 61,
     "metadata": {},
     "output_type": "execute_result"
    }
   ],
   "source": [
    "type(p)"
   ]
  },
  {
   "cell_type": "code",
   "execution_count": 62,
   "id": "0a370aa6-55ab-439a-8f36-2db147c44ab7",
   "metadata": {},
   "outputs": [
    {
     "data": {
      "text/plain": [
       "int"
      ]
     },
     "execution_count": 62,
     "metadata": {},
     "output_type": "execute_result"
    }
   ],
   "source": [
    "type(y)"
   ]
  },
  {
   "cell_type": "code",
   "execution_count": 63,
   "id": "a10bc90a-9317-403c-b52c-3fe703075c2e",
   "metadata": {},
   "outputs": [
    {
     "name": "stdout",
     "output_type": "stream",
     "text": [
      "Help on built-in function print in module builtins:\n",
      "\n",
      "print(*args, sep=' ', end='\\n', file=None, flush=False)\n",
      "    Prints the values to a stream, or to sys.stdout by default.\n",
      "\n",
      "    sep\n",
      "      string inserted between values, default a space.\n",
      "    end\n",
      "      string appended after the last value, default a newline.\n",
      "    file\n",
      "      a file-like object (stream); defaults to the current sys.stdout.\n",
      "    flush\n",
      "      whether to forcibly flush the stream.\n",
      "\n"
     ]
    }
   ],
   "source": [
    "help(print)"
   ]
  },
  {
   "cell_type": "code",
   "execution_count": 64,
   "id": "40f2bcaf-62b3-4b3f-9dc9-fc4c60a4a458",
   "metadata": {},
   "outputs": [
    {
     "data": {
      "text/plain": [
       "['__call__',\n",
       " '__class__',\n",
       " '__delattr__',\n",
       " '__dir__',\n",
       " '__doc__',\n",
       " '__eq__',\n",
       " '__format__',\n",
       " '__ge__',\n",
       " '__getattribute__',\n",
       " '__getstate__',\n",
       " '__gt__',\n",
       " '__hash__',\n",
       " '__init__',\n",
       " '__init_subclass__',\n",
       " '__le__',\n",
       " '__lt__',\n",
       " '__module__',\n",
       " '__name__',\n",
       " '__ne__',\n",
       " '__new__',\n",
       " '__qualname__',\n",
       " '__reduce__',\n",
       " '__reduce_ex__',\n",
       " '__repr__',\n",
       " '__self__',\n",
       " '__setattr__',\n",
       " '__sizeof__',\n",
       " '__str__',\n",
       " '__subclasshook__',\n",
       " '__text_signature__']"
      ]
     },
     "execution_count": 64,
     "metadata": {},
     "output_type": "execute_result"
    }
   ],
   "source": [
    "dir(print)"
   ]
  },
  {
   "cell_type": "markdown",
   "id": "29f21b8f-7853-42b3-aa51-072a17806542",
   "metadata": {},
   "source": [
    "# \"\\n\", \"\\t\" in print and seperators"
   ]
  },
  {
   "cell_type": "code",
   "execution_count": 66,
   "id": "0473f216-0b0e-4433-8e6b-638e8ea0643d",
   "metadata": {},
   "outputs": [
    {
     "name": "stdout",
     "output_type": "stream",
     "text": [
      "23/01/3025\n"
     ]
    }
   ],
   "source": [
    "print(\"23\" , \"01\" , \"3025\" , sep = \"/\")"
   ]
  },
  {
   "cell_type": "code",
   "execution_count": 67,
   "id": "36f4c8c1-0daa-48b3-9ecc-b9cba1c850d2",
   "metadata": {},
   "outputs": [
    {
     "name": "stdout",
     "output_type": "stream",
     "text": [
      "23#01#3025\n"
     ]
    }
   ],
   "source": [
    "print(\"23\" , \"01\" , \"3025\" , sep = \"#\")"
   ]
  },
  {
   "cell_type": "code",
   "execution_count": 68,
   "id": "d112abbf-3c9a-4ddd-8f08-5ef924e22e89",
   "metadata": {},
   "outputs": [
    {
     "name": "stdout",
     "output_type": "stream",
     "text": [
      "Kshitij Patil\n",
      "Kshitij\n",
      "Patil\n",
      "Kshitij\t"
     ]
    }
   ],
   "source": [
    "my_name = \"Kshitij\"\n",
    "my_surname = \"Patil\"\n",
    "print(my_name , my_surname)\n",
    "print(my_name , end = \"\\n\")\n",
    "print(my_surname)\n",
    "print(my_name , end = \"\\t\")\n"
   ]
  },
  {
   "cell_type": "code",
   "execution_count": 69,
   "id": "7652adeb-3e87-485e-825b-7deb76a8d4d0",
   "metadata": {},
   "outputs": [
    {
     "name": "stdout",
     "output_type": "stream",
     "text": [
      "kshitij patil\n"
     ]
    }
   ],
   "source": [
    "fname = \"kshitij\"\n",
    "lname = \"patil\"\n",
    "print(fname , lname)"
   ]
  },
  {
   "cell_type": "code",
   "execution_count": 70,
   "id": "a39a0b3b-a6e9-49a4-8a7e-f29241f649a8",
   "metadata": {},
   "outputs": [
    {
     "name": "stdout",
     "output_type": "stream",
     "text": [
      "kshitij_patil\n"
     ]
    }
   ],
   "source": [
    "print(fname,lname,sep = \"_\")"
   ]
  },
  {
   "cell_type": "code",
   "execution_count": 71,
   "id": "6286e876-8db4-4482-9fdd-f2a27d7e553d",
   "metadata": {},
   "outputs": [
    {
     "name": "stdout",
     "output_type": "stream",
     "text": [
      "kshitij@gmail.com\n"
     ]
    }
   ],
   "source": [
    "print(fname , \"gmail.com\" , sep = \"@\")"
   ]
  },
  {
   "cell_type": "code",
   "execution_count": 72,
   "id": "0b443e1b-6ff2-4177-a342-729c23f1ec90",
   "metadata": {},
   "outputs": [
    {
     "name": "stdout",
     "output_type": "stream",
     "text": [
      "kshitij patil\n",
      "kshitij\n",
      "patil\n"
     ]
    }
   ],
   "source": [
    "print(fname , lname)\n",
    "print(fname , end = \"\\n\")\n",
    "print(lname)"
   ]
  },
  {
   "cell_type": "code",
   "execution_count": 73,
   "id": "fbaf14fb-9fa9-49fc-96dd-59fa3cfd4b8f",
   "metadata": {},
   "outputs": [
    {
     "name": "stdout",
     "output_type": "stream",
     "text": [
      "kshitij\tpatil\n"
     ]
    }
   ],
   "source": [
    "print(fname , end = \"\\t\")\n",
    "print(lname)"
   ]
  },
  {
   "cell_type": "code",
   "execution_count": 74,
   "id": "e8caefdd-795a-49d3-9c40-ac6f7f2f1d2b",
   "metadata": {},
   "outputs": [
    {
     "name": "stdout",
     "output_type": "stream",
     "text": [
      "10 kshitij 55 85 75\n",
      "10 kshitij 55\n",
      "85 75\n"
     ]
    }
   ],
   "source": [
    "student_id = 10\n",
    "student_name = \"kshitij\"\n",
    "maths_marks = 55\n",
    "science_marks = 85\n",
    "social_marks = 75\n",
    "print(student_id , student_name , maths_marks , science_marks , social_marks)\n",
    "print(student_id , student_name , maths_marks  , end = \"\\n\")\n",
    "print(science_marks , social_marks)\n"
   ]
  },
  {
   "cell_type": "code",
   "execution_count": 75,
   "id": "0b0c47b4-b82b-43ef-bd0f-d0b1bcfbe346",
   "metadata": {},
   "outputs": [
    {
     "name": "stdout",
     "output_type": "stream",
     "text": [
      "10\tkshitij\t55\t85\t75\n"
     ]
    }
   ],
   "source": [
    "print(student_id , student_name , maths_marks , science_marks , social_marks , sep = \"\\t\")"
   ]
  },
  {
   "cell_type": "code",
   "execution_count": 76,
   "id": "19603aa2-9d72-40c1-ad59-6c04adb520b5",
   "metadata": {},
   "outputs": [
    {
     "name": "stdout",
     "output_type": "stream",
     "text": [
      "10\tkshitij\t55\t85\t75\n"
     ]
    }
   ],
   "source": [
    "print(student_id , student_name , maths_marks , sep = \"\\t\" , end = \"\\t\")\n",
    "print(science_marks , social_marks , sep = \"\\t\")"
   ]
  },
  {
   "cell_type": "code",
   "execution_count": null,
   "id": "9ceef26a-5561-48d7-a26f-8e98b92f59f2",
   "metadata": {},
   "outputs": [],
   "source": []
  },
  {
   "cell_type": "code",
   "execution_count": null,
   "id": "64a10cb1-48e9-40be-9b7c-85b74c4444e3",
   "metadata": {},
   "outputs": [],
   "source": []
  },
  {
   "cell_type": "markdown",
   "id": "096e28eb-9fad-4422-b624-448a7d430426",
   "metadata": {},
   "source": [
    "# F string "
   ]
  },
  {
   "cell_type": "code",
   "execution_count": 78,
   "id": "059d06d0-267d-4df9-8199-e08704bf41dc",
   "metadata": {},
   "outputs": [
    {
     "name": "stdout",
     "output_type": "stream",
     "text": [
      "Hi kshitij your mobile number is 9404848686  and available balance is 200\n"
     ]
    }
   ],
   "source": [
    "name = \"kshitij\"\n",
    "mob_no = 9404848686\n",
    "balance = 200\n",
    "print(f\"Hi {name} your mobile number is {mob_no}  and available balance is {balance}\")"
   ]
  },
  {
   "cell_type": "markdown",
   "id": "d7e4fee8-5771-4fe2-9d39-b595b9d9c439",
   "metadata": {},
   "source": [
    "# string format with using .format and not f string"
   ]
  },
  {
   "cell_type": "code",
   "execution_count": 80,
   "id": "759dba74-ba63-425b-a6d9-11f1167c4b78",
   "metadata": {},
   "outputs": [
    {
     "name": "stdout",
     "output_type": "stream",
     "text": [
      " Hi jay your mobile number is 88888888888 and your available balance is 500\n"
     ]
    }
   ],
   "source": [
    "print(\" Hi {name} your mobile number is {mob_no} and your available balance is {balance}\" . format(name = \"jay\" , mob_no = 88888888888 , balance = 500))"
   ]
  },
  {
   "cell_type": "code",
   "execution_count": 81,
   "id": "de3f01c1-4a13-484f-aac1-e7f3ee9ba72a",
   "metadata": {},
   "outputs": [],
   "source": [
    "# we can use both f string and .format , but should not do it , just use f string , wich is good practice ."
   ]
  },
  {
   "cell_type": "code",
   "execution_count": 82,
   "id": "fa97fa83-78f9-4b06-badd-c31bc97fad29",
   "metadata": {},
   "outputs": [
    {
     "name": "stdout",
     "output_type": "stream",
     "text": [
      " Hi kshitij your mobile number is 9404848686 and your available balance is 200\n"
     ]
    }
   ],
   "source": [
    "print(f\" Hi {name} your mobile number is {mob_no} and your available balance is {balance}\" . format(\"kshiitj\",1584165265,526))"
   ]
  },
  {
   "cell_type": "markdown",
   "id": "da485367-e828-4ea5-8e55-b11db4e84e3a",
   "metadata": {},
   "source": [
    "# List "
   ]
  },
  {
   "cell_type": "code",
   "execution_count": 84,
   "id": "6a736b42-fe1f-479f-839e-32ab3be8fb7a",
   "metadata": {},
   "outputs": [],
   "source": [
    "emp_data = [101 , \"karan\" , \"Engineer\" , 50000 , \"Day Shift\"]"
   ]
  },
  {
   "cell_type": "code",
   "execution_count": 85,
   "id": "8e2b933a-2a2e-48af-9c6d-ed576f221bd9",
   "metadata": {},
   "outputs": [
    {
     "data": {
      "text/plain": [
       "[101, 'karan', 'Engineer', 50000, 'Day Shift']"
      ]
     },
     "execution_count": 85,
     "metadata": {},
     "output_type": "execute_result"
    }
   ],
   "source": [
    "emp_data"
   ]
  },
  {
   "cell_type": "markdown",
   "id": "d6f8dd60-008a-49da-a01b-7e09aa8b0e66",
   "metadata": {},
   "source": [
    "# Slicing"
   ]
  },
  {
   "cell_type": "code",
   "execution_count": 87,
   "id": "a1c40ec8-780e-4f83-839b-170bfa303719",
   "metadata": {},
   "outputs": [
    {
     "data": {
      "text/plain": [
       "['Engineer', 50000, 'Day Shift']"
      ]
     },
     "execution_count": 87,
     "metadata": {},
     "output_type": "execute_result"
    }
   ],
   "source": [
    "emp_data[2:6]"
   ]
  },
  {
   "cell_type": "code",
   "execution_count": 88,
   "id": "786a76aa-aba4-427f-a86d-fd34149e30af",
   "metadata": {},
   "outputs": [
    {
     "data": {
      "text/plain": [
       "['karan', 50000]"
      ]
     },
     "execution_count": 88,
     "metadata": {},
     "output_type": "execute_result"
    }
   ],
   "source": [
    "emp_data[1:6:2]"
   ]
  },
  {
   "cell_type": "code",
   "execution_count": 89,
   "id": "c8aa88e7-3615-48e7-926d-475e9ffbaae3",
   "metadata": {},
   "outputs": [
    {
     "data": {
      "text/plain": [
       "5"
      ]
     },
     "execution_count": 89,
     "metadata": {},
     "output_type": "execute_result"
    }
   ],
   "source": [
    "len(emp_data)"
   ]
  },
  {
   "cell_type": "code",
   "execution_count": 90,
   "id": "2662bcd0-2c5d-4ec1-bf44-30fa2912e21b",
   "metadata": {},
   "outputs": [
    {
     "data": {
      "text/plain": [
       "[101, 'karan', 'Engineer', 50000]"
      ]
     },
     "execution_count": 90,
     "metadata": {},
     "output_type": "execute_result"
    }
   ],
   "source": [
    "emp_data[-5:-1]"
   ]
  },
  {
   "cell_type": "code",
   "execution_count": 91,
   "id": "a9b50c7f-aa83-4665-a3ff-9cfa6517e19a",
   "metadata": {},
   "outputs": [
    {
     "data": {
      "text/plain": [
       "[101, 'karan', 'Engineer', 50000, 'Day Shift']"
      ]
     },
     "execution_count": 91,
     "metadata": {},
     "output_type": "execute_result"
    }
   ],
   "source": [
    "emp_data[-5:]"
   ]
  },
  {
   "cell_type": "code",
   "execution_count": 92,
   "id": "92cec8e9-21aa-4140-a791-af04bf13f4cd",
   "metadata": {},
   "outputs": [
    {
     "data": {
      "text/plain": [
       "[50000, 'Day Shift']"
      ]
     },
     "execution_count": 92,
     "metadata": {},
     "output_type": "execute_result"
    }
   ],
   "source": [
    "emp_data[-2:]"
   ]
  },
  {
   "cell_type": "code",
   "execution_count": 93,
   "id": "e011dad6-4378-4906-85e0-18e9d77ff3ba",
   "metadata": {},
   "outputs": [
    {
     "data": {
      "text/plain": [
       "['karan', 'Engineer']"
      ]
     },
     "execution_count": 93,
     "metadata": {},
     "output_type": "execute_result"
    }
   ],
   "source": [
    "emp_data[-4:-2]"
   ]
  },
  {
   "cell_type": "code",
   "execution_count": 94,
   "id": "45a5270a-cbe8-4857-ae97-a0204fc711b9",
   "metadata": {},
   "outputs": [
    {
     "data": {
      "text/plain": [
       "[101, 'Engineer', 'Day Shift']"
      ]
     },
     "execution_count": 94,
     "metadata": {},
     "output_type": "execute_result"
    }
   ],
   "source": [
    "emp_data[-5:5:2]"
   ]
  },
  {
   "cell_type": "code",
   "execution_count": 95,
   "id": "45731c51-b200-4f7f-a0d2-3396e3a06ae4",
   "metadata": {},
   "outputs": [
    {
     "data": {
      "text/plain": [
       "[101, 'karan', 'Engineer', 50000, 'Day Shift']"
      ]
     },
     "execution_count": 95,
     "metadata": {},
     "output_type": "execute_result"
    }
   ],
   "source": [
    "emp_data"
   ]
  },
  {
   "cell_type": "code",
   "execution_count": 96,
   "id": "d57b5e86-8c08-4e26-8354-9e713d3acddd",
   "metadata": {},
   "outputs": [
    {
     "data": {
      "text/plain": [
       "[101, 'karan']"
      ]
     },
     "execution_count": 96,
     "metadata": {},
     "output_type": "execute_result"
    }
   ],
   "source": [
    "emp_data[-5:2]"
   ]
  },
  {
   "cell_type": "code",
   "execution_count": 97,
   "id": "e5b820fd-deb4-4567-a47e-ff2c90f56831",
   "metadata": {},
   "outputs": [
    {
     "data": {
      "text/plain": [
       "[101, 'karan', 'Engineer']"
      ]
     },
     "execution_count": 97,
     "metadata": {},
     "output_type": "execute_result"
    }
   ],
   "source": [
    "emp_data[-5:3]"
   ]
  },
  {
   "cell_type": "code",
   "execution_count": 98,
   "id": "b89095fa-2a65-443d-b074-7795323ea550",
   "metadata": {},
   "outputs": [
    {
     "data": {
      "text/plain": [
       "[101, 'Engineer', 'Day Shift']"
      ]
     },
     "execution_count": 98,
     "metadata": {},
     "output_type": "execute_result"
    }
   ],
   "source": [
    "emp_data[-5:5:2]"
   ]
  },
  {
   "cell_type": "code",
   "execution_count": 99,
   "id": "fbada162-cae2-4064-82c8-2f61a5b119b0",
   "metadata": {},
   "outputs": [
    {
     "data": {
      "text/plain": [
       "[101, 'Engineer', 'Day Shift']"
      ]
     },
     "execution_count": 99,
     "metadata": {},
     "output_type": "execute_result"
    }
   ],
   "source": [
    "emp_data[::2]"
   ]
  },
  {
   "cell_type": "code",
   "execution_count": 100,
   "id": "ae61cf1c-6572-4e6f-8958-bfb9f8116052",
   "metadata": {},
   "outputs": [
    {
     "data": {
      "text/plain": [
       "[101, 50000]"
      ]
     },
     "execution_count": 100,
     "metadata": {},
     "output_type": "execute_result"
    }
   ],
   "source": [
    "emp_data[::3]"
   ]
  },
  {
   "cell_type": "code",
   "execution_count": 101,
   "id": "37739d21-e11e-4cc6-aca3-1a839a06e073",
   "metadata": {},
   "outputs": [
    {
     "data": {
      "text/plain": [
       "[101, 'Engineer', 'Day Shift']"
      ]
     },
     "execution_count": 101,
     "metadata": {},
     "output_type": "execute_result"
    }
   ],
   "source": [
    "emp_data[-5::2]"
   ]
  },
  {
   "cell_type": "code",
   "execution_count": 102,
   "id": "98f3372e-94db-4551-9628-84bfce700f48",
   "metadata": {},
   "outputs": [
    {
     "data": {
      "text/plain": [
       "[101, 'Engineer']"
      ]
     },
     "execution_count": 102,
     "metadata": {},
     "output_type": "execute_result"
    }
   ],
   "source": [
    "emp_data[-5:-1:2]"
   ]
  },
  {
   "cell_type": "code",
   "execution_count": 103,
   "id": "d307717b-f41b-4b90-99fb-cac75cdba4ec",
   "metadata": {},
   "outputs": [
    {
     "data": {
      "text/plain": [
       "[101, 50000]"
      ]
     },
     "execution_count": 103,
     "metadata": {},
     "output_type": "execute_result"
    }
   ],
   "source": [
    "emp_data[::3]"
   ]
  },
  {
   "cell_type": "code",
   "execution_count": 104,
   "id": "3d603920-0b6b-4f09-af82-8f783f122038",
   "metadata": {},
   "outputs": [
    {
     "data": {
      "text/plain": [
       "[101, 'karan', 'Engineer', 50000, 'Day Shift']"
      ]
     },
     "execution_count": 104,
     "metadata": {},
     "output_type": "execute_result"
    }
   ],
   "source": [
    "emp_data"
   ]
  },
  {
   "cell_type": "code",
   "execution_count": 105,
   "id": "2c53653f-5fd4-4809-83f5-186d5c2ed1c7",
   "metadata": {},
   "outputs": [
    {
     "data": {
      "text/plain": [
       "[101, 'Engineer', 'Day Shift']"
      ]
     },
     "execution_count": 105,
     "metadata": {},
     "output_type": "execute_result"
    }
   ],
   "source": [
    "emp_data[::2]"
   ]
  },
  {
   "cell_type": "code",
   "execution_count": 106,
   "id": "d81e9ad0-a0a2-48f4-a83c-fd5379d36e64",
   "metadata": {},
   "outputs": [],
   "source": [
    "data = [0,1,2,3,4,5,6,7,8,9]"
   ]
  },
  {
   "cell_type": "code",
   "execution_count": 107,
   "id": "593d0b53-5981-48f7-834a-a3ca0ec47630",
   "metadata": {},
   "outputs": [
    {
     "data": {
      "text/plain": [
       "[0, 3, 6, 9]"
      ]
     },
     "execution_count": 107,
     "metadata": {},
     "output_type": "execute_result"
    }
   ],
   "source": [
    "data[::3]"
   ]
  },
  {
   "cell_type": "code",
   "execution_count": 108,
   "id": "442c5cea-8968-4ae9-9604-63eb94670354",
   "metadata": {},
   "outputs": [
    {
     "name": "stdout",
     "output_type": "stream",
     "text": [
      "[101, 102, 103, 104, 105, 106, 107] ['ram', 'sham', 'tanamay', 'joe', 'mark', 'rohit', 'jay'] [77.56, 55.23, 98.54, 69.41, 75.45, 78.87, 99.2]\n",
      "[[101, 102, 103, 104, 105, 106, 107], ['ram', 'sham', 'tanamay', 'joe', 'mark', 'rohit', 'jay'], [77.56, 55.23, 98.54, 69.41, 75.45, 78.87, 99.2]]\n"
     ]
    }
   ],
   "source": [
    "id = [101, 102, 103, 104, 105, 106, 107]\n",
    "name = [\"ram\", \"sham\", \"tanamay\", \"joe\", \"mark\", \"rohit\", \"jay\"]\n",
    "marks = [77.56, 55.23, 98.54, 69.41, 75.45, 78.87, 99.20]\n",
    "\n",
    "every =[id, name, marks]\n",
    "print(id, name, marks)\n",
    "print(every)"
   ]
  },
  {
   "cell_type": "code",
   "execution_count": 109,
   "id": "b3d9dc13-d494-4880-8eaf-93c2028ac140",
   "metadata": {},
   "outputs": [
    {
     "name": "stdout",
     "output_type": "stream",
     "text": [
      "[101, 102, 103, 104, 105, 106, 107, 'ram', 'sham', 'tanamay', 'joe', 'mark', 'rohit', 'jay', 77.56, 55.23, 98.54, 69.41, 75.45, 78.87, 99.2]\n",
      "[101, 102, 103, 104, 105, 106, 107, 'ram', 'sham', 'tanamay', 'joe', 'mark', 'rohit', 'jay', 77.56, 55.23, 98.54, 69.41, 75.45, 78.87, 99.2]\n"
     ]
    }
   ],
   "source": [
    "print(id + name + marks)\n",
    "all = id + name + marks\n",
    "print(all)"
   ]
  },
  {
   "cell_type": "code",
   "execution_count": 110,
   "id": "cfcec106-4ce9-43fc-801b-211955d6d172",
   "metadata": {},
   "outputs": [
    {
     "data": {
      "text/plain": [
       "[101,\n",
       " 102,\n",
       " 103,\n",
       " 104,\n",
       " 105,\n",
       " 106,\n",
       " 107,\n",
       " 'ram',\n",
       " 'sham',\n",
       " 'tanamay',\n",
       " 'joe',\n",
       " 'mark',\n",
       " 'rohit',\n",
       " 'jay',\n",
       " 77.56,\n",
       " 55.23,\n",
       " 98.54,\n",
       " 69.41,\n",
       " 75.45,\n",
       " 78.87,\n",
       " 99.2]"
      ]
     },
     "execution_count": 110,
     "metadata": {},
     "output_type": "execute_result"
    }
   ],
   "source": [
    "all"
   ]
  },
  {
   "cell_type": "code",
   "execution_count": 111,
   "id": "b171e15a-1747-465b-bcad-6ddda5a5967c",
   "metadata": {},
   "outputs": [
    {
     "data": {
      "text/plain": [
       "21"
      ]
     },
     "execution_count": 111,
     "metadata": {},
     "output_type": "execute_result"
    }
   ],
   "source": [
    "len(all)"
   ]
  },
  {
   "cell_type": "code",
   "execution_count": 112,
   "id": "6991ef38-9c73-470e-8648-a67eea0633a1",
   "metadata": {},
   "outputs": [
    {
     "data": {
      "text/plain": [
       "103"
      ]
     },
     "execution_count": 112,
     "metadata": {},
     "output_type": "execute_result"
    }
   ],
   "source": [
    "all[2]"
   ]
  },
  {
   "cell_type": "code",
   "execution_count": 113,
   "id": "26ad26ed-4386-4af6-a1f8-cbdef3cc8f7a",
   "metadata": {},
   "outputs": [],
   "source": [
    "# all[2, 5, 9]"
   ]
  },
  {
   "cell_type": "code",
   "execution_count": 114,
   "id": "8d85acf0-6d25-41fa-87b4-708c57c57820",
   "metadata": {},
   "outputs": [],
   "source": [
    "# all[[2], [5], [9]]"
   ]
  },
  {
   "cell_type": "code",
   "execution_count": 115,
   "id": "8e00f6c5-c848-4855-bf66-3af5e7376217",
   "metadata": {},
   "outputs": [
    {
     "name": "stdout",
     "output_type": "stream",
     "text": [
      "103 106 tanamay\n"
     ]
    }
   ],
   "source": [
    "print(all[2], all[5], all[9])"
   ]
  },
  {
   "cell_type": "code",
   "execution_count": 116,
   "id": "2afe2abd-b261-4547-8d81-4dad4efeec81",
   "metadata": {},
   "outputs": [
    {
     "name": "stdout",
     "output_type": "stream",
     "text": [
      "[101, 102] [104, 105, 106, 107] [55.23, 98.54]\n"
     ]
    }
   ],
   "source": [
    "print(all[0:2], all[3:7], all[15:17])"
   ]
  },
  {
   "cell_type": "code",
   "execution_count": 117,
   "id": "0cd61264-de4c-43c9-a6b1-b19eaca3119a",
   "metadata": {},
   "outputs": [
    {
     "name": "stdout",
     "output_type": "stream",
     "text": [
      "([101, 102, 103, 104, 105, 106, 107], ['ram', 'sham', 'tanamay', 'joe', 'mark', 'rohit', 'jay'], [77.56, 55.23, 98.54, 69.41, 75.45, 78.87, 99.2])\n"
     ]
    }
   ],
   "source": [
    "all1 = id, name, marks\n",
    "print(all1)"
   ]
  },
  {
   "cell_type": "code",
   "execution_count": 118,
   "id": "e02630d0-5c9f-4295-a3bd-e2fd4248f7ab",
   "metadata": {},
   "outputs": [
    {
     "data": {
      "text/plain": [
       "'tanamay'"
      ]
     },
     "execution_count": 118,
     "metadata": {},
     "output_type": "execute_result"
    }
   ],
   "source": [
    "all1[1][2]"
   ]
  },
  {
   "cell_type": "code",
   "execution_count": 119,
   "id": "97b2850d-6c32-4907-ae20-84925f668e6e",
   "metadata": {},
   "outputs": [
    {
     "data": {
      "text/plain": [
       "[102, 104]"
      ]
     },
     "execution_count": 119,
     "metadata": {},
     "output_type": "execute_result"
    }
   ],
   "source": [
    "all[1:5:2]"
   ]
  },
  {
   "cell_type": "code",
   "execution_count": 120,
   "id": "e6de2f2a-94d8-4720-97d0-ce96c5e87604",
   "metadata": {},
   "outputs": [
    {
     "data": {
      "text/plain": [
       "[99.2,\n",
       " 78.87,\n",
       " 75.45,\n",
       " 69.41,\n",
       " 98.54,\n",
       " 55.23,\n",
       " 77.56,\n",
       " 'jay',\n",
       " 'rohit',\n",
       " 'mark',\n",
       " 'joe',\n",
       " 'tanamay',\n",
       " 'sham',\n",
       " 'ram',\n",
       " 107,\n",
       " 106,\n",
       " 105,\n",
       " 104,\n",
       " 103,\n",
       " 102,\n",
       " 101]"
      ]
     },
     "execution_count": 120,
     "metadata": {},
     "output_type": "execute_result"
    }
   ],
   "source": [
    "# Reverse list\n",
    "all[::-1]"
   ]
  },
  {
   "cell_type": "markdown",
   "id": "8613784b-9135-4297-af0e-4bb40859e43c",
   "metadata": {},
   "source": [
    "# Operations on List"
   ]
  },
  {
   "cell_type": "code",
   "execution_count": 122,
   "id": "ee0cf0ba-d346-4404-892e-e77056c9b4b5",
   "metadata": {},
   "outputs": [
    {
     "name": "stdout",
     "output_type": "stream",
     "text": [
      "[101, 102, 103, 104, 105, 106, 107, 'ram', 'sham', 'tanamay', 'joe', 'mark', 'rohit', 'jay', 77.56, 55.23, 98.54, 69.41, 75.45, 78.87, 99.2]\n"
     ]
    }
   ],
   "source": [
    "print(all)"
   ]
  },
  {
   "cell_type": "code",
   "execution_count": 123,
   "id": "02132dfc-34af-4993-b200-c3d30d27dc85",
   "metadata": {},
   "outputs": [
    {
     "name": "stdout",
     "output_type": "stream",
     "text": [
      "[101, 102, 103, 104, 105, 106, 107, 'ram', 'sham', 'tanamay', 'joe', 'mark', 'rohit', 'jay', 77.56, 55.23, 98.54, 69.41, 75.45, 78.87, 99.2]\n"
     ]
    }
   ],
   "source": [
    "all2 = all\n",
    "print(all2)"
   ]
  },
  {
   "cell_type": "code",
   "execution_count": 124,
   "id": "7531dc85-bfdc-4e4a-a1ad-594ea499235b",
   "metadata": {},
   "outputs": [
    {
     "name": "stdout",
     "output_type": "stream",
     "text": [
      "[99.2, 78.87, 75.45, 69.41, 98.54, 55.23, 77.56, 'jay', 'rohit', 'mark', 'joe', 'tanamay', 'sham', 'ram', 107, 106, 105, 104, 103, 102, 101]\n"
     ]
    }
   ],
   "source": [
    "all2.reverse()\n",
    "print(all2)"
   ]
  },
  {
   "cell_type": "markdown",
   "id": "49bd4ea7-c031-4346-81cf-fbb7bc00256a",
   "metadata": {},
   "source": [
    "# Append List / Insert List"
   ]
  },
  {
   "cell_type": "code",
   "execution_count": 126,
   "id": "87b1800d-bd83-411c-a7de-53b1007f0aa8",
   "metadata": {},
   "outputs": [
    {
     "name": "stdout",
     "output_type": "stream",
     "text": [
      "[99.2, 78.87, 75.45, 69.41, 98.54, 55.23, 77.56, 'jay', 'rohit', 'mark', 'joe', 'tanamay', 'sham', 'ram', 107, 106, 105, 104, 103, 102, 101]\n"
     ]
    }
   ],
   "source": [
    "print(all)"
   ]
  },
  {
   "cell_type": "code",
   "execution_count": 127,
   "id": "15a2659c-13e3-42b1-b37e-53b7b57d6758",
   "metadata": {},
   "outputs": [
    {
     "name": "stdout",
     "output_type": "stream",
     "text": [
      "[101, 102, 103, 104, 105, 106, 107, 'ram', 'sham', 'tanamay', 'joe', 'mark', 'rohit', 'jay', 77.56, 55.23, 98.54, 69.41, 75.45, 78.87, 99.2]\n"
     ]
    }
   ],
   "source": [
    "all = all2\n",
    "all.reverse()\n",
    "print(all)"
   ]
  },
  {
   "cell_type": "code",
   "execution_count": 128,
   "id": "352e92fe-df2d-4c39-9d81-3171b5d2d35f",
   "metadata": {},
   "outputs": [],
   "source": [
    "all.append(56.36)"
   ]
  },
  {
   "cell_type": "code",
   "execution_count": 129,
   "id": "95603887-105d-4931-b270-f8162c0f41fd",
   "metadata": {},
   "outputs": [
    {
     "name": "stdout",
     "output_type": "stream",
     "text": [
      "[101, 102, 103, 104, 105, 106, 107, 'ram', 'sham', 'tanamay', 'joe', 'mark', 'rohit', 'jay', 77.56, 55.23, 98.54, 69.41, 75.45, 78.87, 99.2, 56.36]\n"
     ]
    }
   ],
   "source": [
    "print(all)"
   ]
  },
  {
   "cell_type": "code",
   "execution_count": 130,
   "id": "bc0d7dcf-f389-4fa8-ba27-7467e1220556",
   "metadata": {},
   "outputs": [
    {
     "name": "stdout",
     "output_type": "stream",
     "text": [
      "[101, 102, 100000, 103, 104, 105, 106, 107, 'ram', 'sham', 'tanamay', 'joe', 'mark', 'rohit', 'jay', 77.56, 55.23, 98.54, 69.41, 75.45, 78.87, 99.2, 56.36]\n"
     ]
    }
   ],
   "source": [
    "# Insert\n",
    "\n",
    "all.insert(2,100000)\n",
    "print(all)"
   ]
  },
  {
   "cell_type": "code",
   "execution_count": 131,
   "id": "ee99e61a-01b6-46b2-a787-669c9fec47b7",
   "metadata": {},
   "outputs": [
    {
     "name": "stdout",
     "output_type": "stream",
     "text": [
      "[101, 102, 100000, 103, 104, 105, 106, 107, 'ram', 'HARSH', 'sham', 'tanamay', 'joe', 'mark', 'rohit', 'jay', 77.56, 55.23, 98.54, 69.41, 75.45, 78.87, 99.2, 56.36]\n"
     ]
    }
   ],
   "source": [
    "all.insert(9 , \"HARSH\")\n",
    "print(all)"
   ]
  },
  {
   "cell_type": "code",
   "execution_count": 132,
   "id": "c31b7ff0-80b4-4f05-9c7d-5531c08fde2b",
   "metadata": {},
   "outputs": [
    {
     "name": "stdout",
     "output_type": "stream",
     "text": [
      "[101, 102, 100000, 103, 104, 105, 106, [1, 2, 3, 4], 107, 'ram', 'HARSH', 'sham', 'tanamay', 'joe', 'mark', 'rohit', 'jay', 77.56, 55.23, 98.54, 69.41, 75.45, 78.87, 99.2, 56.36]\n"
     ]
    }
   ],
   "source": [
    "all.insert(7 , [1, 2, 3, 4])\n",
    "print(all)"
   ]
  },
  {
   "cell_type": "code",
   "execution_count": 133,
   "id": "8f39dc4f-4c12-4c9b-839f-fab5466fa8e2",
   "metadata": {},
   "outputs": [
    {
     "name": "stdout",
     "output_type": "stream",
     "text": [
      "[101, 102, 100000, 103, 104, [11, 22, 33, 44], 105, 106, [1, 2, 3, 4], 107, 'ram', 'HARSH', 'sham', 'tanamay', 'joe', 'mark', 'rohit', 'jay', 77.56, 55.23, 98.54, 69.41, 75.45, 78.87, 99.2, 56.36]\n"
     ]
    }
   ],
   "source": [
    "it = [11,22,33,44]\n",
    "all.insert(5,it)\n",
    "print(all)"
   ]
  },
  {
   "cell_type": "markdown",
   "id": "e1107ef6-1d47-4287-8e0d-64ec278cd22e",
   "metadata": {},
   "source": [
    "# Remove from List"
   ]
  },
  {
   "cell_type": "code",
   "execution_count": 135,
   "id": "ef72d6f0-de54-4597-9952-3f642ccfe858",
   "metadata": {},
   "outputs": [],
   "source": [
    "# Use Remove for value\n",
    "# Use Pop for Index"
   ]
  },
  {
   "cell_type": "code",
   "execution_count": 136,
   "id": "64d665d5-0502-4cd5-8dbd-bb8f8a966269",
   "metadata": {},
   "outputs": [
    {
     "name": "stdout",
     "output_type": "stream",
     "text": [
      "[101, 102, 100000, 103, 104, 105, 106, [1, 2, 3, 4], 107, 'ram', 'HARSH', 'sham', 'tanamay', 'joe', 'mark', 'rohit', 'jay', 77.56, 55.23, 98.54, 69.41, 75.45, 78.87, 99.2, 56.36]\n"
     ]
    }
   ],
   "source": [
    "all.remove([11,22,33,44])\n",
    "print(all)"
   ]
  },
  {
   "cell_type": "code",
   "execution_count": 137,
   "id": "87811a26-445c-4ccb-894c-dcf875eb3e6c",
   "metadata": {},
   "outputs": [],
   "source": [
    "all.remove(105)"
   ]
  },
  {
   "cell_type": "code",
   "execution_count": 138,
   "id": "cef96b08-0c23-46f8-ae97-d1c1094c3636",
   "metadata": {},
   "outputs": [],
   "source": [
    "all.remove(101)"
   ]
  },
  {
   "cell_type": "code",
   "execution_count": 139,
   "id": "729b1507-fff9-4865-8a1e-5a8192b30b1d",
   "metadata": {},
   "outputs": [],
   "source": [
    "all.remove(\"HARSH\")"
   ]
  },
  {
   "cell_type": "code",
   "execution_count": 140,
   "id": "9e7b7750-7a7d-44f9-8c83-a10c764ee78f",
   "metadata": {},
   "outputs": [
    {
     "name": "stdout",
     "output_type": "stream",
     "text": [
      "[102, 100000, 103, 104, 106, [1, 2, 3, 4], 107, 'ram', 'sham', 'tanamay', 'joe', 'mark', 'rohit', 'jay', 77.56, 55.23, 98.54, 69.41, 75.45, 78.87, 99.2, 56.36]\n"
     ]
    }
   ],
   "source": [
    "print(all)"
   ]
  },
  {
   "cell_type": "code",
   "execution_count": 141,
   "id": "78f3be88-1f52-4a4f-9ed0-7be7e6eca9f2",
   "metadata": {},
   "outputs": [
    {
     "name": "stdout",
     "output_type": "stream",
     "text": [
      "[102, 100000, 104, 106, [1, 2, 3, 4], 107, 'ram', 'sham', 'tanamay', 'joe', 'mark', 'rohit', 'jay', 77.56, 55.23, 98.54, 69.41, 75.45, 78.87, 99.2, 56.36]\n"
     ]
    }
   ],
   "source": [
    "all.pop(2)\n",
    "print(all)"
   ]
  },
  {
   "cell_type": "code",
   "execution_count": 142,
   "id": "a107e31c-60d2-407c-b096-4ddd4945405e",
   "metadata": {},
   "outputs": [
    {
     "name": "stdout",
     "output_type": "stream",
     "text": [
      "[102, 100000, 104, [1, 2, 3, 4], 107, 'ram', 'sham', 'tanamay', 'joe', 'mark', 'rohit', 'jay', 77.56, 55.23, 98.54, 69.41, 75.45, 78.87, 99.2, 56.36]\n"
     ]
    }
   ],
   "source": [
    "all.pop(3)\n",
    "print(all)"
   ]
  },
  {
   "cell_type": "code",
   "execution_count": 143,
   "id": "78f6bc0d-ad7b-403f-ab1e-9017a685dbde",
   "metadata": {},
   "outputs": [
    {
     "name": "stdout",
     "output_type": "stream",
     "text": [
      "[102, 100000, [1, 2, 3, 4], 107, 'ram', 'sham', 'tanamay', 'joe', 'mark', 'rohit', 'jay', 77.56, 55.23, 98.54, 69.41, 75.45, 78.87, 99.2, 56.36]\n"
     ]
    }
   ],
   "source": [
    "\n",
    "all.pop(2)\n",
    "print(all)"
   ]
  },
  {
   "cell_type": "code",
   "execution_count": 144,
   "id": "dd984b1b-733f-48d1-a6bf-d6bbaf55bf8b",
   "metadata": {},
   "outputs": [
    {
     "name": "stdout",
     "output_type": "stream",
     "text": [
      "[102, 100000, [1, 2, 3, 4], 107, 'ram', 'sham', 'tanamay', 'joe', 'mark', 'rohit', 'jay', 77.56, 55.23, 98.54, 69.41, 75.45, 78.87, 99.2]\n"
     ]
    }
   ],
   "source": [
    "# empty .pop() removes last element of list \n",
    "# but empty .remove() cannot remove last element of list\n",
    "\n",
    "all.pop()\n",
    "print(all)"
   ]
  },
  {
   "cell_type": "code",
   "execution_count": 145,
   "id": "3000f107-e039-4e1e-9062-34e240382c94",
   "metadata": {},
   "outputs": [
    {
     "data": {
      "text/plain": [
       "99.2"
      ]
     },
     "execution_count": 145,
     "metadata": {},
     "output_type": "execute_result"
    }
   ],
   "source": [
    "# Only pop can return remove element from list .\n",
    "\n",
    "all.pop()"
   ]
  },
  {
   "cell_type": "code",
   "execution_count": 146,
   "id": "8710ce36-0a82-4b8b-8a98-02ea36cee6ef",
   "metadata": {},
   "outputs": [
    {
     "data": {
      "text/plain": [
       "[102,\n",
       " 100000,\n",
       " [1, 2, 3, 4],\n",
       " 107,\n",
       " 'ram',\n",
       " 'sham',\n",
       " 'tanamay',\n",
       " 'joe',\n",
       " 'mark',\n",
       " 'rohit',\n",
       " 'jay',\n",
       " 77.56,\n",
       " 55.23,\n",
       " 98.54,\n",
       " 69.41,\n",
       " 75.45,\n",
       " 78.87]"
      ]
     },
     "execution_count": 146,
     "metadata": {},
     "output_type": "execute_result"
    }
   ],
   "source": [
    "all"
   ]
  },
  {
   "cell_type": "code",
   "execution_count": 147,
   "id": "00c28d7c-8906-4f4d-988f-c58aa0701756",
   "metadata": {},
   "outputs": [
    {
     "name": "stdout",
     "output_type": "stream",
     "text": [
      "[102, 100000, [1, 2, 3, 4], 107, 'ram', 'sham', 'tanamay', 'joe', 'mark', 'rohit', 'jay', 77.56, 55.23, 98.54, 69.41, 75.45, 78.87, 101, 101, 'ram']\n"
     ]
    }
   ],
   "source": [
    "all.append(101)\n",
    "all.append(101)\n",
    "all.append(\"ram\")\n",
    "print(all)"
   ]
  },
  {
   "cell_type": "markdown",
   "id": "94312b22-1a16-4597-9dfa-67bae7e8def9",
   "metadata": {},
   "source": [
    "# Occurence of elements in list"
   ]
  },
  {
   "cell_type": "code",
   "execution_count": 149,
   "id": "79e3a55e-d873-4cb4-bf70-5929a1712ac6",
   "metadata": {},
   "outputs": [
    {
     "data": {
      "text/plain": [
       "17"
      ]
     },
     "execution_count": 149,
     "metadata": {},
     "output_type": "execute_result"
    }
   ],
   "source": [
    "all.index(101)\n"
   ]
  },
  {
   "cell_type": "code",
   "execution_count": 150,
   "id": "85d8bcf7-a0d3-4f8a-9abd-e158d13d0cca",
   "metadata": {},
   "outputs": [
    {
     "data": {
      "text/plain": [
       "4"
      ]
     },
     "execution_count": 150,
     "metadata": {},
     "output_type": "execute_result"
    }
   ],
   "source": [
    "all.index(\"ram\")"
   ]
  },
  {
   "cell_type": "code",
   "execution_count": 151,
   "id": "9aee63e3-7f93-49df-bf5f-f9dfb0ad2abe",
   "metadata": {},
   "outputs": [],
   "source": [
    "# all.index(\"ram\", 5,7)"
   ]
  },
  {
   "cell_type": "code",
   "execution_count": 152,
   "id": "f87922d1-21e6-4f99-ac30-7305bf73c37d",
   "metadata": {},
   "outputs": [
    {
     "data": {
      "text/plain": [
       "19"
      ]
     },
     "execution_count": 152,
     "metadata": {},
     "output_type": "execute_result"
    }
   ],
   "source": [
    "all.index(\"ram\",17)"
   ]
  },
  {
   "cell_type": "code",
   "execution_count": 153,
   "id": "377f02cb-d533-4a4f-9a13-93459b4ba131",
   "metadata": {},
   "outputs": [
    {
     "data": {
      "text/plain": [
       "19"
      ]
     },
     "execution_count": 153,
     "metadata": {},
     "output_type": "execute_result"
    }
   ],
   "source": [
    "all.index(\"ram\",17,23)"
   ]
  },
  {
   "cell_type": "markdown",
   "id": "a8badfaa-2a5e-441b-a01d-2d4661a2428a",
   "metadata": {},
   "source": [
    "# Extend method / Mergigng"
   ]
  },
  {
   "cell_type": "code",
   "execution_count": 155,
   "id": "61d14f28-8549-430d-bcde-deb889494682",
   "metadata": {},
   "outputs": [],
   "source": [
    "country = [\"India\", \"Austrelia\", \"USA\", \"Russia\"]\n",
    "country_code = [\"IN\", \"AUS\", \"US\", \"RUS\"]\n",
    "country.extend(country_code)"
   ]
  },
  {
   "cell_type": "code",
   "execution_count": 156,
   "id": "606ee2bb-6658-4be1-899a-f19f1465e963",
   "metadata": {},
   "outputs": [
    {
     "data": {
      "text/plain": [
       "['India', 'Austrelia', 'USA', 'Russia', 'IN', 'AUS', 'US', 'RUS']"
      ]
     },
     "execution_count": 156,
     "metadata": {},
     "output_type": "execute_result"
    }
   ],
   "source": [
    "country"
   ]
  },
  {
   "cell_type": "markdown",
   "id": "951ec605-1d97-4762-874a-d5529aea00eb",
   "metadata": {},
   "source": [
    "# Tuples \n",
    "Tuples are Immutable\n",
    "        "
   ]
  },
  {
   "cell_type": "code",
   "execution_count": 158,
   "id": "af5e6fd6-db5e-4b91-806d-8b97424487c7",
   "metadata": {},
   "outputs": [],
   "source": [
    "emp_data = (101, 102, 103)\n"
   ]
  },
  {
   "cell_type": "code",
   "execution_count": 159,
   "id": "812d69ab-db84-4a7a-8ce0-3dd0d7097dbf",
   "metadata": {},
   "outputs": [
    {
     "data": {
      "text/plain": [
       "tuple"
      ]
     },
     "execution_count": 159,
     "metadata": {},
     "output_type": "execute_result"
    }
   ],
   "source": [
    "type(emp_data)"
   ]
  },
  {
   "cell_type": "code",
   "execution_count": 160,
   "id": "897f0d9c-ae9a-413c-809d-88507e83abf2",
   "metadata": {},
   "outputs": [],
   "source": [
    "emp = (101, \"Ramesh\", \"Ramesh@gmail.com\", 985248282, \"IT\")\n"
   ]
  },
  {
   "cell_type": "code",
   "execution_count": 161,
   "id": "693f744b-dca8-4951-bbfd-24dae30f7f33",
   "metadata": {},
   "outputs": [
    {
     "data": {
      "text/plain": [
       "tuple"
      ]
     },
     "execution_count": 161,
     "metadata": {},
     "output_type": "execute_result"
    }
   ],
   "source": [
    "type(emp)"
   ]
  },
  {
   "cell_type": "code",
   "execution_count": 162,
   "id": "dbd3287b-a82b-4e6f-83a8-67e135673d02",
   "metadata": {},
   "outputs": [
    {
     "data": {
      "text/plain": [
       "('Ramesh', 'Ramesh@gmail.com')"
      ]
     },
     "execution_count": 162,
     "metadata": {},
     "output_type": "execute_result"
    }
   ],
   "source": [
    "emp[1:3]"
   ]
  },
  {
   "cell_type": "code",
   "execution_count": 163,
   "id": "7aeadf2c-6501-4c69-aecd-7f1563216101",
   "metadata": {},
   "outputs": [],
   "source": [
    "emp_id = (1, 2, 3)\n"
   ]
  },
  {
   "cell_type": "code",
   "execution_count": 164,
   "id": "66378aa2-b2cb-454c-bc3a-49cf5e7216f3",
   "metadata": {},
   "outputs": [
    {
     "data": {
      "text/plain": [
       "3"
      ]
     },
     "execution_count": 164,
     "metadata": {},
     "output_type": "execute_result"
    }
   ],
   "source": [
    "len(emp_data)"
   ]
  },
  {
   "cell_type": "code",
   "execution_count": 165,
   "id": "33581646-2773-45db-b8d8-c8df0790ba5f",
   "metadata": {},
   "outputs": [
    {
     "data": {
      "text/plain": [
       "1"
      ]
     },
     "execution_count": 165,
     "metadata": {},
     "output_type": "execute_result"
    }
   ],
   "source": [
    "emp.index(\"Ramesh\")"
   ]
  },
  {
   "cell_type": "code",
   "execution_count": 166,
   "id": "c77ed8fc-7b46-493a-b89a-52f61d1fec04",
   "metadata": {},
   "outputs": [
    {
     "data": {
      "text/plain": [
       "[101, 'Ramesh', 'Ramesh@gmail.com', 985248282, 'IT']"
      ]
     },
     "execution_count": 166,
     "metadata": {},
     "output_type": "execute_result"
    }
   ],
   "source": [
    "list(emp)"
   ]
  },
  {
   "cell_type": "code",
   "execution_count": 167,
   "id": "89101eb9-e99a-4c1d-8fc2-c7cd9b97f511",
   "metadata": {},
   "outputs": [
    {
     "data": {
      "text/plain": [
       "tuple"
      ]
     },
     "execution_count": 167,
     "metadata": {},
     "output_type": "execute_result"
    }
   ],
   "source": [
    "type(emp)"
   ]
  },
  {
   "cell_type": "code",
   "execution_count": 168,
   "id": "e935147a-da59-4cc9-950b-1b8cadf56afd",
   "metadata": {},
   "outputs": [],
   "source": [
    "e = list(emp)"
   ]
  },
  {
   "cell_type": "code",
   "execution_count": 169,
   "id": "3914eb64-ce77-4080-a837-65fc7bff691e",
   "metadata": {},
   "outputs": [
    {
     "data": {
      "text/plain": [
       "[101, 'Ramesh', 'Ramesh@gmail.com', 985248282, 'IT']"
      ]
     },
     "execution_count": 169,
     "metadata": {},
     "output_type": "execute_result"
    }
   ],
   "source": [
    "e\n"
   ]
  },
  {
   "cell_type": "code",
   "execution_count": 170,
   "id": "6ff593c0-a865-4d79-ae1e-79d9dd916b6e",
   "metadata": {},
   "outputs": [
    {
     "data": {
      "text/plain": [
       "list"
      ]
     },
     "execution_count": 170,
     "metadata": {},
     "output_type": "execute_result"
    }
   ],
   "source": [
    "type(e)"
   ]
  },
  {
   "cell_type": "code",
   "execution_count": 171,
   "id": "9fc8b9d1-616a-4021-a9e0-8b1ee467628e",
   "metadata": {},
   "outputs": [],
   "source": [
    "# We cannot add elements in tuple as it is immutuable. So we have to covert tuple in list to add elements or do changes in tuple."
   ]
  },
  {
   "cell_type": "code",
   "execution_count": 172,
   "id": "90896d00-6a72-4446-954f-2205d01e0c79",
   "metadata": {},
   "outputs": [
    {
     "data": {
      "text/plain": [
       "(101, 'Ramesh', 'Ramesh@gmail.com', 985248282, 'IT')"
      ]
     },
     "execution_count": 172,
     "metadata": {},
     "output_type": "execute_result"
    }
   ],
   "source": [
    "emp"
   ]
  },
  {
   "cell_type": "code",
   "execution_count": 173,
   "id": "560f42bd-3f15-45bd-90e4-b10dfd2870f5",
   "metadata": {},
   "outputs": [
    {
     "data": {
      "text/plain": [
       "[101, 'Ramesh', 'Ramesh@gmail.com', 985248282, 'IT']"
      ]
     },
     "execution_count": 173,
     "metadata": {},
     "output_type": "execute_result"
    }
   ],
   "source": [
    "list(emp)"
   ]
  },
  {
   "cell_type": "code",
   "execution_count": 174,
   "id": "f50eb6b0-4b79-4026-a4e3-663142613967",
   "metadata": {},
   "outputs": [
    {
     "data": {
      "text/plain": [
       "[101, 'Ramesh', 'Ramesh@gmail.com', 985248282, 'IT']"
      ]
     },
     "execution_count": 174,
     "metadata": {},
     "output_type": "execute_result"
    }
   ],
   "source": [
    "e"
   ]
  },
  {
   "cell_type": "code",
   "execution_count": 175,
   "id": "acb942d2-4bd0-4f77-b475-9b9c2127e869",
   "metadata": {},
   "outputs": [],
   "source": [
    "e.append(45)"
   ]
  },
  {
   "cell_type": "code",
   "execution_count": 176,
   "id": "583c9009-73b9-40a2-a800-e83f220dbc22",
   "metadata": {},
   "outputs": [
    {
     "data": {
      "text/plain": [
       "[101, 'Ramesh', 'Ramesh@gmail.com', 985248282, 'IT', 45]"
      ]
     },
     "execution_count": 176,
     "metadata": {},
     "output_type": "execute_result"
    }
   ],
   "source": [
    "e"
   ]
  },
  {
   "cell_type": "code",
   "execution_count": 177,
   "id": "eecc9a12-3c35-4706-afaf-3a7a09607569",
   "metadata": {},
   "outputs": [],
   "source": [
    "Emp = tuple(e)"
   ]
  },
  {
   "cell_type": "code",
   "execution_count": 178,
   "id": "f4672386-663b-4d39-b163-75f3b5d34f22",
   "metadata": {},
   "outputs": [
    {
     "data": {
      "text/plain": [
       "[101, 'Ramesh', 'Ramesh@gmail.com', 985248282, 'IT', 45]"
      ]
     },
     "execution_count": 178,
     "metadata": {},
     "output_type": "execute_result"
    }
   ],
   "source": [
    "e"
   ]
  },
  {
   "cell_type": "code",
   "execution_count": 179,
   "id": "8ab90cad-d337-44d0-9d60-2305ea3bced1",
   "metadata": {},
   "outputs": [
    {
     "data": {
      "text/plain": [
       "(101, 'Ramesh', 'Ramesh@gmail.com', 985248282, 'IT', 45)"
      ]
     },
     "execution_count": 179,
     "metadata": {},
     "output_type": "execute_result"
    }
   ],
   "source": [
    "Emp"
   ]
  },
  {
   "cell_type": "code",
   "execution_count": 180,
   "id": "01bde624-e6b5-4500-8584-7d237a54709d",
   "metadata": {},
   "outputs": [
    {
     "name": "stdout",
     "output_type": "stream",
     "text": [
      "(101, 'Ramesh', 'Ramesh@gmail.com', 985248282, 'IT')\n"
     ]
    }
   ],
   "source": [
    "print(emp)"
   ]
  },
  {
   "cell_type": "code",
   "execution_count": 181,
   "id": "1ba4e691-6146-41d0-9441-88a36a2093ef",
   "metadata": {},
   "outputs": [
    {
     "name": "stdout",
     "output_type": "stream",
     "text": [
      "(101, 'Ramesh', 'Ramesh@gmail.com', 985248282, 'IT', 45)\n"
     ]
    }
   ],
   "source": [
    "print(Emp)"
   ]
  },
  {
   "cell_type": "markdown",
   "id": "5347e153-66db-4290-bdee-aa61cd32c44d",
   "metadata": {},
   "source": [
    "# Sets"
   ]
  },
  {
   "cell_type": "code",
   "execution_count": 183,
   "id": "acae4b17-335c-4332-88f1-0732718cd30b",
   "metadata": {},
   "outputs": [],
   "source": [
    "# Stes are Mutuable.\n",
    "# Sets doesn't allow or store duplicate values , it will print  only unique values and skips duplicate or repitative values.\n",
    "# Data stores in Sets are always Unique.\n",
    "# You cannot performe indexing , as data in Sets are not stored in order."
   ]
  },
  {
   "cell_type": "code",
   "execution_count": 184,
   "id": "a5c6240c-e48c-4cee-a423-7533ef5848b7",
   "metadata": {},
   "outputs": [],
   "source": [
    "ids = {101, 102, 103, 101, 104, 102}"
   ]
  },
  {
   "cell_type": "code",
   "execution_count": 185,
   "id": "b15baad8-e945-46b7-9118-01f45ddb3cb7",
   "metadata": {},
   "outputs": [
    {
     "data": {
      "text/plain": [
       "{101, 102, 103, 104}"
      ]
     },
     "execution_count": 185,
     "metadata": {},
     "output_type": "execute_result"
    }
   ],
   "source": [
    "ids"
   ]
  },
  {
   "cell_type": "code",
   "execution_count": 186,
   "id": "8947f554-baa1-4724-bfff-6aa884896dd4",
   "metadata": {},
   "outputs": [
    {
     "data": {
      "text/plain": [
       "set"
      ]
     },
     "execution_count": 186,
     "metadata": {},
     "output_type": "execute_result"
    }
   ],
   "source": [
    "type(ids)"
   ]
  },
  {
   "cell_type": "code",
   "execution_count": 187,
   "id": "45092b32-f780-4ac3-ac76-a47d689cc4aa",
   "metadata": {},
   "outputs": [],
   "source": [
    "id1 = {101, 102, 103, 104, 105, 101, 102, 101, 102, 103}"
   ]
  },
  {
   "cell_type": "code",
   "execution_count": 188,
   "id": "e081487f-ef19-481f-8dfd-10c0751756ea",
   "metadata": {},
   "outputs": [
    {
     "data": {
      "text/plain": [
       "{101, 102, 103, 104, 105}"
      ]
     },
     "execution_count": 188,
     "metadata": {},
     "output_type": "execute_result"
    }
   ],
   "source": [
    "id1"
   ]
  },
  {
   "cell_type": "code",
   "execution_count": 189,
   "id": "797168fe-b8a6-4099-a72a-cc480904a599",
   "metadata": {},
   "outputs": [],
   "source": [
    "id1.add(111)"
   ]
  },
  {
   "cell_type": "code",
   "execution_count": 190,
   "id": "90471efe-16ee-4b6d-ad18-2a6f06f47d40",
   "metadata": {},
   "outputs": [
    {
     "data": {
      "text/plain": [
       "{101, 102, 103, 104, 105, 111}"
      ]
     },
     "execution_count": 190,
     "metadata": {},
     "output_type": "execute_result"
    }
   ],
   "source": [
    "id1"
   ]
  },
  {
   "cell_type": "code",
   "execution_count": 191,
   "id": "5a7bba21-bceb-481b-ab08-6b3b392ccd06",
   "metadata": {},
   "outputs": [
    {
     "data": {
      "text/plain": [
       "{101, 102, 103, 104, 105, 111}"
      ]
     },
     "execution_count": 191,
     "metadata": {},
     "output_type": "execute_result"
    }
   ],
   "source": [
    "pre_id1 = id1\n",
    "pre_id1"
   ]
  },
  {
   "cell_type": "code",
   "execution_count": 192,
   "id": "9ada3f39-60e8-4ff2-869d-79f4edfc1b38",
   "metadata": {},
   "outputs": [],
   "source": [
    "prim_id2 = {102, 103, 105, 106, 111}"
   ]
  },
  {
   "cell_type": "code",
   "execution_count": 193,
   "id": "3ee77b2b-f21a-4748-9b27-d220d6929abf",
   "metadata": {},
   "outputs": [
    {
     "data": {
      "text/plain": [
       "{102, 103, 105, 111}"
      ]
     },
     "execution_count": 193,
     "metadata": {},
     "output_type": "execute_result"
    }
   ],
   "source": [
    "pre_id1.intersection(prim_id2)"
   ]
  },
  {
   "cell_type": "code",
   "execution_count": 194,
   "id": "45574d9a-351e-404b-82ea-163ffdcba4b4",
   "metadata": {},
   "outputs": [
    {
     "data": {
      "text/plain": [
       "{101, 102, 103, 104, 105, 106, 111}"
      ]
     },
     "execution_count": 194,
     "metadata": {},
     "output_type": "execute_result"
    }
   ],
   "source": [
    "pre_id1.union(prim_id2)"
   ]
  },
  {
   "cell_type": "code",
   "execution_count": 195,
   "id": "5a5e9e6e-5039-4e7c-96c2-a7003777a80f",
   "metadata": {},
   "outputs": [
    {
     "data": {
      "text/plain": [
       "{101, 104}"
      ]
     },
     "execution_count": 195,
     "metadata": {},
     "output_type": "execute_result"
    }
   ],
   "source": [
    "pre_id1.difference(prim_id2)"
   ]
  },
  {
   "cell_type": "code",
   "execution_count": 196,
   "id": "554fd29e-c682-4a73-bcb7-3c19fced1533",
   "metadata": {},
   "outputs": [
    {
     "data": {
      "text/plain": [
       "{106}"
      ]
     },
     "execution_count": 196,
     "metadata": {},
     "output_type": "execute_result"
    }
   ],
   "source": [
    "prim_id2.difference(pre_id1)"
   ]
  },
  {
   "cell_type": "code",
   "execution_count": 197,
   "id": "61b1f4a8-5c7d-4860-a788-84e1cbbab2c8",
   "metadata": {},
   "outputs": [
    {
     "data": {
      "text/plain": [
       "{101, 102, 103, 104, 105, 111}"
      ]
     },
     "execution_count": 197,
     "metadata": {},
     "output_type": "execute_result"
    }
   ],
   "source": [
    "pre_id1"
   ]
  },
  {
   "cell_type": "code",
   "execution_count": 198,
   "id": "338e802a-d3f9-4790-a72b-ba81f5535aed",
   "metadata": {},
   "outputs": [],
   "source": [
    "pre_id1.remove(101)"
   ]
  },
  {
   "cell_type": "code",
   "execution_count": 199,
   "id": "d960f5f2-adb7-4dab-9c1e-65f27fc42922",
   "metadata": {},
   "outputs": [
    {
     "data": {
      "text/plain": [
       "{102, 103, 104, 105, 111}"
      ]
     },
     "execution_count": 199,
     "metadata": {},
     "output_type": "execute_result"
    }
   ],
   "source": [
    "pre_id1"
   ]
  },
  {
   "cell_type": "code",
   "execution_count": 200,
   "id": "f843c39f-5d6e-49a1-8dbb-30d04a67baef",
   "metadata": {},
   "outputs": [
    {
     "data": {
      "text/plain": [
       "102"
      ]
     },
     "execution_count": 200,
     "metadata": {},
     "output_type": "execute_result"
    }
   ],
   "source": [
    "pre_id1.pop()"
   ]
  },
  {
   "cell_type": "code",
   "execution_count": 201,
   "id": "13d72e5e-3ea2-4436-b383-0daf9a12dc4d",
   "metadata": {},
   "outputs": [
    {
     "data": {
      "text/plain": [
       "{103, 104, 105, 111}"
      ]
     },
     "execution_count": 201,
     "metadata": {},
     "output_type": "execute_result"
    }
   ],
   "source": [
    "pre_id1"
   ]
  },
  {
   "cell_type": "code",
   "execution_count": 202,
   "id": "7190c684-d09a-4854-9cb3-d8ebc4ff5b55",
   "metadata": {},
   "outputs": [
    {
     "data": {
      "text/plain": [
       "103"
      ]
     },
     "execution_count": 202,
     "metadata": {},
     "output_type": "execute_result"
    }
   ],
   "source": [
    "pre_id1.pop()"
   ]
  },
  {
   "cell_type": "code",
   "execution_count": 203,
   "id": "14400b14-a160-40fc-871c-3676a5b2637f",
   "metadata": {},
   "outputs": [
    {
     "data": {
      "text/plain": [
       "{104, 105, 111}"
      ]
     },
     "execution_count": 203,
     "metadata": {},
     "output_type": "execute_result"
    }
   ],
   "source": [
    "pre_id1"
   ]
  },
  {
   "cell_type": "code",
   "execution_count": 204,
   "id": "0bc64938-8034-4fa5-b909-a9d1c10c7db5",
   "metadata": {},
   "outputs": [
    {
     "data": {
      "text/plain": [
       "104"
      ]
     },
     "execution_count": 204,
     "metadata": {},
     "output_type": "execute_result"
    }
   ],
   "source": [
    "pre_id1.pop()"
   ]
  },
  {
   "cell_type": "code",
   "execution_count": 205,
   "id": "32d7cf52-6ec1-4067-a228-81402493a8b4",
   "metadata": {},
   "outputs": [
    {
     "data": {
      "text/plain": [
       "{105, 111}"
      ]
     },
     "execution_count": 205,
     "metadata": {},
     "output_type": "execute_result"
    }
   ],
   "source": [
    "pre_id1"
   ]
  },
  {
   "cell_type": "code",
   "execution_count": 206,
   "id": "a0e5660f-9b22-404d-b334-78713a3598d0",
   "metadata": {},
   "outputs": [
    {
     "data": {
      "text/plain": [
       "105"
      ]
     },
     "execution_count": 206,
     "metadata": {},
     "output_type": "execute_result"
    }
   ],
   "source": [
    "pre_id1.pop()"
   ]
  },
  {
   "cell_type": "code",
   "execution_count": 207,
   "id": "e803e355-1598-4ced-a8c9-ad3e148c7479",
   "metadata": {},
   "outputs": [
    {
     "data": {
      "text/plain": [
       "{111}"
      ]
     },
     "execution_count": 207,
     "metadata": {},
     "output_type": "execute_result"
    }
   ],
   "source": [
    "pre_id1"
   ]
  },
  {
   "cell_type": "markdown",
   "id": "612f213c-a79c-4e2e-86de-1f25574294d1",
   "metadata": {},
   "source": [
    "# Conditional  Operators"
   ]
  },
  {
   "cell_type": "code",
   "execution_count": 209,
   "id": "c19294a1-56bc-4414-a2a3-e9e2d1862cf8",
   "metadata": {},
   "outputs": [],
   "source": [
    "a = 10\n",
    "b = 20"
   ]
  },
  {
   "cell_type": "code",
   "execution_count": 210,
   "id": "1896a386-75cb-49a9-8a35-fa99cc6438a9",
   "metadata": {},
   "outputs": [
    {
     "data": {
      "text/plain": [
       "False"
      ]
     },
     "execution_count": 210,
     "metadata": {},
     "output_type": "execute_result"
    }
   ],
   "source": [
    "a == b"
   ]
  },
  {
   "cell_type": "code",
   "execution_count": 211,
   "id": "cc114d0c-d032-4ded-a67e-73a533475b5c",
   "metadata": {},
   "outputs": [
    {
     "data": {
      "text/plain": [
       "True"
      ]
     },
     "execution_count": 211,
     "metadata": {},
     "output_type": "execute_result"
    }
   ],
   "source": [
    "a != b"
   ]
  },
  {
   "cell_type": "code",
   "execution_count": 212,
   "id": "203c9480-d175-4e76-b1bc-1ad24c3026fc",
   "metadata": {},
   "outputs": [
    {
     "data": {
      "text/plain": [
       "False"
      ]
     },
     "execution_count": 212,
     "metadata": {},
     "output_type": "execute_result"
    }
   ],
   "source": [
    "a > b"
   ]
  },
  {
   "cell_type": "code",
   "execution_count": 213,
   "id": "03d3be13-c223-49e5-9b98-799afcdff3d2",
   "metadata": {},
   "outputs": [
    {
     "data": {
      "text/plain": [
       "True"
      ]
     },
     "execution_count": 213,
     "metadata": {},
     "output_type": "execute_result"
    }
   ],
   "source": [
    "a < b"
   ]
  },
  {
   "cell_type": "code",
   "execution_count": 214,
   "id": "bb3a8450-84e9-4465-8f57-1244b811af24",
   "metadata": {},
   "outputs": [
    {
     "data": {
      "text/plain": [
       "False"
      ]
     },
     "execution_count": 214,
     "metadata": {},
     "output_type": "execute_result"
    }
   ],
   "source": [
    "a >= b"
   ]
  },
  {
   "cell_type": "code",
   "execution_count": 215,
   "id": "1b44ad6c-333f-4773-986f-c3ad58680b0f",
   "metadata": {},
   "outputs": [
    {
     "data": {
      "text/plain": [
       "True"
      ]
     },
     "execution_count": 215,
     "metadata": {},
     "output_type": "execute_result"
    }
   ],
   "source": [
    "a <= b"
   ]
  },
  {
   "cell_type": "markdown",
   "id": "322778cb-7a85-413d-8471-dffd450acde3",
   "metadata": {},
   "source": [
    "# Logical Operations\n",
    "\n",
    "        and                              or\n",
    "  a      b       a and b      | a         b        a or b\n",
    "  True  True     True         | True      True     True\n",
    "  True  False    False        | True      False    True\n",
    "  False True     False        | False     True     True\n",
    "  False False    False        | False     False    False"
   ]
  },
  {
   "cell_type": "code",
   "execution_count": 217,
   "id": "75dd8181-6d18-484d-ac51-0f6e6d293cb7",
   "metadata": {},
   "outputs": [],
   "source": [
    "a = 18\n",
    "b = \"Pune\""
   ]
  },
  {
   "cell_type": "code",
   "execution_count": 218,
   "id": "2a1592d7-a4f5-4769-952e-20a4637b8439",
   "metadata": {},
   "outputs": [
    {
     "data": {
      "text/plain": [
       "False"
      ]
     },
     "execution_count": 218,
     "metadata": {},
     "output_type": "execute_result"
    }
   ],
   "source": [
    "(a == b) and (b == \"Harsh\")"
   ]
  },
  {
   "cell_type": "code",
   "execution_count": 219,
   "id": "3b1f0be2-44cb-4f5c-a621-6582cd5eae27",
   "metadata": {},
   "outputs": [
    {
     "data": {
      "text/plain": [
       "True"
      ]
     },
     "execution_count": 219,
     "metadata": {},
     "output_type": "execute_result"
    }
   ],
   "source": [
    "(a == 18) and (b == \"Pune\")"
   ]
  },
  {
   "cell_type": "code",
   "execution_count": 220,
   "id": "99245094-b78b-4f40-9afa-f2a6e157f0fb",
   "metadata": {},
   "outputs": [
    {
     "data": {
      "text/plain": [
       "True"
      ]
     },
     "execution_count": 220,
     "metadata": {},
     "output_type": "execute_result"
    }
   ],
   "source": [
    "(a == 81) or (b == \"Pune\")"
   ]
  },
  {
   "cell_type": "code",
   "execution_count": 221,
   "id": "09531c20-9a78-4c28-a00a-2db957b5de49",
   "metadata": {},
   "outputs": [
    {
     "data": {
      "text/plain": [
       "False"
      ]
     },
     "execution_count": 221,
     "metadata": {},
     "output_type": "execute_result"
    }
   ],
   "source": [
    "(a == 80) or (b == \"pune\")"
   ]
  },
  {
   "cell_type": "code",
   "execution_count": 222,
   "id": "7f431166-7c59-4a33-a096-e03d1cf4d6ea",
   "metadata": {},
   "outputs": [],
   "source": [
    "c = \"Kshitij\""
   ]
  },
  {
   "cell_type": "code",
   "execution_count": 223,
   "id": "dae35a5e-4f57-41e9-a44d-1631e9aa5bd5",
   "metadata": {},
   "outputs": [
    {
     "data": {
      "text/plain": [
       "True"
      ]
     },
     "execution_count": 223,
     "metadata": {},
     "output_type": "execute_result"
    }
   ],
   "source": [
    "# Age can be anything but \" kshitij \" should stay in pune \n",
    "\n",
    "((c == \"Kshitij\") and (b == \"Pune\")) or age == 71 "
   ]
  },
  {
   "cell_type": "code",
   "execution_count": null,
   "id": "db02bd2d-b17f-4b6d-9103-9bb8eb62461d",
   "metadata": {},
   "outputs": [],
   "source": []
  },
  {
   "cell_type": "code",
   "execution_count": 224,
   "id": "b6e46d29-e109-4cb5-bb33-ef93e7a3a7e8",
   "metadata": {},
   "outputs": [],
   "source": [
    "age = 50"
   ]
  },
  {
   "cell_type": "code",
   "execution_count": null,
   "id": "c9f012a7-4f66-4747-99e7-127c27cc90e6",
   "metadata": {},
   "outputs": [],
   "source": []
  },
  {
   "cell_type": "code",
   "execution_count": 225,
   "id": "a76100bd-acf0-4427-afb8-39940622ca85",
   "metadata": {},
   "outputs": [
    {
     "data": {
      "text/plain": [
       "True"
      ]
     },
     "execution_count": 225,
     "metadata": {},
     "output_type": "execute_result"
    }
   ],
   "source": [
    "((age > 17) and (age < 60))"
   ]
  },
  {
   "cell_type": "code",
   "execution_count": 450,
   "id": "1039c36c-f72b-46fb-ae09-be84e501bbb6",
   "metadata": {},
   "outputs": [
    {
     "name": "stdin",
     "output_type": "stream",
     "text": [
      "enter :  55\n"
     ]
    }
   ],
   "source": [
    "age = int(input(\"enter : \"))"
   ]
  },
  {
   "cell_type": "code",
   "execution_count": 453,
   "id": "b0b5470c-fbe7-4b36-a965-2179e7553c5e",
   "metadata": {},
   "outputs": [
    {
     "data": {
      "text/plain": [
       "55"
      ]
     },
     "execution_count": 453,
     "metadata": {},
     "output_type": "execute_result"
    }
   ],
   "source": [
    "age"
   ]
  },
  {
   "cell_type": "code",
   "execution_count": 467,
   "id": "3d227da9-3077-4539-81d2-a323c4621ca7",
   "metadata": {},
   "outputs": [
    {
     "name": "stdin",
     "output_type": "stream",
     "text": [
      "Enter Your age :  55\n",
      "Enter your location :  Pune\n"
     ]
    }
   ],
   "source": [
    "age = int(input(\"Enter Your age : \"))\n",
    "location = input(\"Enter your location : \")"
   ]
  },
  {
   "cell_type": "code",
   "execution_count": 469,
   "id": "52fc5ed6-5a49-400f-99f4-de22e2ad18bf",
   "metadata": {},
   "outputs": [
    {
     "data": {
      "text/plain": [
       "True"
      ]
     },
     "execution_count": 469,
     "metadata": {},
     "output_type": "execute_result"
    }
   ],
   "source": [
    "(age > 18) and (location == \"Pune\")"
   ]
  },
  {
   "cell_type": "code",
   "execution_count": 473,
   "id": "0a25ca58-c8a4-4cc2-a790-9fd4cedf08b2",
   "metadata": {},
   "outputs": [
    {
     "data": {
      "text/plain": [
       "True"
      ]
     },
     "execution_count": 473,
     "metadata": {},
     "output_type": "execute_result"
    }
   ],
   "source": [
    "(age < 18) or (location == \"Pune\")"
   ]
  },
  {
   "cell_type": "code",
   "execution_count": 483,
   "id": "4bbe54c1-d6d3-42f5-823d-c780d8263c88",
   "metadata": {},
   "outputs": [
    {
     "name": "stdin",
     "output_type": "stream",
     "text": [
      "Enter First Number :  100\n",
      "Enter second number :  200\n"
     ]
    },
    {
     "name": "stdout",
     "output_type": "stream",
     "text": [
      "Your total is :  300\n",
      "Addition of numbers 100 and 200 is : 300\n"
     ]
    }
   ],
   "source": [
    "num1 = int(input(\"Enter First Number : \"))\n",
    "num2 = int(input(\"Enter second number : \"))\n",
    "\n",
    "total = num1 + num2\n",
    "print(\"Your total is : \", total)\n",
    "print(f\"Addition of numbers {num1} and {num2} is : {total}\")"
   ]
  },
  {
   "cell_type": "code",
   "execution_count": 477,
   "id": "7873828c-c189-4a42-a046-e5207b264acf",
   "metadata": {},
   "outputs": [
    {
     "name": "stdout",
     "output_type": "stream",
     "text": [
      "30\n"
     ]
    }
   ],
   "source": [
    "print(total)"
   ]
  },
  {
   "cell_type": "code",
   "execution_count": 487,
   "id": "862858d5-9653-487d-a2d3-6298b25ff4c4",
   "metadata": {},
   "outputs": [
    {
     "name": "stdin",
     "output_type": "stream",
     "text": [
      "Enter Your First Name :  Kshitij\n",
      "Enter Your Last Name :  PAtil\n"
     ]
    },
    {
     "name": "stdout",
     "output_type": "stream",
     "text": [
      "Your Fisrt NAme is Kshitij and Your last NAme is PAtil and Your Full NAme is Kshitij PAtil\n"
     ]
    }
   ],
   "source": [
    "first_name = input(\"Enter Your First Name : \")\n",
    "last_name = input(\"Enter Your Last Name : \")\n",
    "full_name = first_name + \" \" + last_name\n",
    "print(f\"Your Fisrt NAme is {first_name} and Your last NAme is {last_name} and Your Full NAme is {full_name}\")"
   ]
  },
  {
   "cell_type": "code",
   "execution_count": 495,
   "id": "0131f24b-2c7c-49f5-85d7-9a40963d0ec7",
   "metadata": {},
   "outputs": [
    {
     "name": "stdin",
     "output_type": "stream",
     "text": [
      "Enter your First NAme : Kshitij\n",
      "Enter your middle name :  Pradeep\n",
      "Enetr your last name :  PAtil\n",
      "Enter your age :  31\n",
      "Enetr your Exact weight  85.36\n"
     ]
    },
    {
     "name": "stdout",
     "output_type": "stream",
     "text": [
      "Your First Name is Kshitij and Middle Name is Pradeep and Last Name is PAtil and Your Full Name is Kshitij Pradeep PAtil and your age is 31 and Weight is 85.36\n"
     ]
    }
   ],
   "source": [
    "fname = input(\"Enter your First NAme :\")\n",
    "mname = input(\"Enter your middle name : \")\n",
    "lname = input(\"Enetr your last name : \")\n",
    "age = int(input(\"Enter your age : \"))\n",
    "weight = float(input(\"Enetr your Exact weight \"))\n",
    "full_name = fname + \" \" + mname + \" \" + lname\n",
    "print(f\"Your First Name is {fname} and Middle Name is {mname} and Last Name is {lname} and Your Full Name is {full_name} and your age is {age} and Weight is {weight}\")"
   ]
  },
  {
   "cell_type": "code",
   "execution_count": 89,
   "id": "81f60096-5b05-417c-84c5-fb32884dcbd4",
   "metadata": {},
   "outputs": [
    {
     "name": "stdin",
     "output_type": "stream",
     "text": [
      "Enter Number : 5\n",
      "Enter Number : 4\n",
      "Enter Number : 5\n"
     ]
    },
    {
     "name": "stdout",
     "output_type": "stream",
     "text": [
      "9.16515138991168\n"
     ]
    }
   ],
   "source": [
    "# Area Of Triangle\n",
    "a = int(input(\"Enter Number :\"))\n",
    "b = int(input(\"Enter Number :\"))\n",
    "c = int(input(\"Enter Number :\"))\n",
    "s= (a+b+c)/2\n",
    "ABC = (s*(s-a)*(s-b)*(s-c))**(1/2)\n",
    "print(ABC)"
   ]
  },
  {
   "cell_type": "code",
   "execution_count": 501,
   "id": "a0fdca70-ec13-456a-879a-b2fbfa8695ec",
   "metadata": {},
   "outputs": [
    {
     "name": "stdin",
     "output_type": "stream",
     "text": [
      " 56\n",
      " 85\n"
     ]
    },
    {
     "name": "stdout",
     "output_type": "stream",
     "text": [
      "Addition of numbers is 141 \n"
     ]
    }
   ],
   "source": [
    "nums1 = int(input())\n",
    "nums2 = int(input())\n",
    "\n",
    "if (nums1 > 50) and (nums2 > 50):\n",
    "    c = nums1 + nums2\n",
    "    print(f\"Addition of numbers is {c} \")\n",
    "else:\n",
    "    (nums1 < 50) and (nums2 < 50)\n",
    "    d = nums1 - nums2\n",
    "    print(f\"Substraction is {d}\")"
   ]
  },
  {
   "cell_type": "code",
   "execution_count": 503,
   "id": "56c72666-15fc-405e-8741-e40d756bdf42",
   "metadata": {},
   "outputs": [
    {
     "name": "stdin",
     "output_type": "stream",
     "text": [
      " 45\n",
      " 41\n"
     ]
    },
    {
     "name": "stdout",
     "output_type": "stream",
     "text": [
      "Substraction is 4\n"
     ]
    }
   ],
   "source": [
    "nums1 = int(input())\n",
    "nums2 = int(input())\n",
    "\n",
    "if (nums1 > 50) and (nums2 > 50):\n",
    "    c = nums1 + nums2\n",
    "    print(f\"Addition of numbers is {c} \")\n",
    "else:\n",
    "    (nums1 < 50) and (nums2 < 50)\n",
    "    d = nums1 - nums2\n",
    "    print(f\"Substraction is {d}\")"
   ]
  },
  {
   "cell_type": "code",
   "execution_count": 507,
   "id": "ec01faed-aab9-4158-9902-2a3fceee572d",
   "metadata": {},
   "outputs": [
    {
     "name": "stdin",
     "output_type": "stream",
     "text": [
      " 4\n"
     ]
    },
    {
     "name": "stdout",
     "output_type": "stream",
     "text": [
      "The given number  4 is Even\n"
     ]
    }
   ],
   "source": [
    "# Check Number is even or  odd\n",
    "\n",
    "check_num = int(input())\n",
    "\n",
    "\n",
    "if check_num%2==0:\n",
    "    print(f\"The given number  {check_num} is Even\")\n",
    "else :\n",
    "    print(f\"The given number {check_num} is Odd\")"
   ]
  },
  {
   "cell_type": "code",
   "execution_count": 509,
   "id": "9c0453df-d7a9-411f-9110-3e5b0b09a392",
   "metadata": {},
   "outputs": [
    {
     "name": "stdin",
     "output_type": "stream",
     "text": [
      " 5\n"
     ]
    },
    {
     "name": "stdout",
     "output_type": "stream",
     "text": [
      "The given number 5 is Odd\n"
     ]
    }
   ],
   "source": [
    "# Check Number is even or  odd\n",
    "\n",
    "check_num = int(input())\n",
    "\n",
    "\n",
    "if check_num%2==0:\n",
    "    print(f\"The given number  {check_num} is Even\")\n",
    "else :\n",
    "    print(f\"The given number {check_num} is Odd\")"
   ]
  },
  {
   "cell_type": "markdown",
   "id": "85de6766-ea3d-4029-9e26-a25fa5fa4cbc",
   "metadata": {},
   "source": [
    "# If Elif Else\n",
    "if condition:\n",
    "    exxecutable code of if \n",
    "elif condition:\n",
    "    executable code of elif\n",
    "elif condition:\n",
    "    executable code of elif\n",
    "else:\n",
    "    executable code of else"
   ]
  },
  {
   "cell_type": "code",
   "execution_count": 513,
   "id": "5c73becf-69c1-411c-b609-2a1a637e8cf2",
   "metadata": {},
   "outputs": [
    {
     "data": {
      "text/plain": [
       "45"
      ]
     },
     "execution_count": 513,
     "metadata": {},
     "output_type": "execute_result"
    }
   ],
   "source": [
    "nums1"
   ]
  },
  {
   "cell_type": "code",
   "execution_count": 515,
   "id": "209aeb54-c033-494a-a987-bea28ae60588",
   "metadata": {},
   "outputs": [
    {
     "data": {
      "text/plain": [
       "41"
      ]
     },
     "execution_count": 515,
     "metadata": {},
     "output_type": "execute_result"
    }
   ],
   "source": [
    "nums2"
   ]
  },
  {
   "cell_type": "code",
   "execution_count": 519,
   "id": "868a710b-c17e-48c7-98cc-b8d7b009758d",
   "metadata": {},
   "outputs": [
    {
     "name": "stdout",
     "output_type": "stream",
     "text": [
      "Is divisible by 5\n"
     ]
    }
   ],
   "source": [
    "number = 25\n",
    "if number%2==0:\n",
    "    print(f\"Is divisible by 2  \")\n",
    "elif number%3==0:\n",
    "    print(f\"Is divisible by 3 \")\n",
    "elif number%5==0:\n",
    "    print(f\"Is divisible by 5\")\n",
    "else:\n",
    "    print(\"number is not good\")"
   ]
  },
  {
   "cell_type": "code",
   "execution_count": 521,
   "id": "eaeafd99-3531-4b20-a777-6e98ea807400",
   "metadata": {},
   "outputs": [
    {
     "name": "stdout",
     "output_type": "stream",
     "text": [
      "Is divisible by 2 and 3  \n"
     ]
    }
   ],
   "source": [
    "number = 60\n",
    "if number%2==0 and number%3==0:\n",
    "    print(f\"Is divisible by 2 and 3  \")\n",
    "elif number%2==0:\n",
    "    print(f\"Is divisible by 2 \")\n",
    "elif number%3==0:\n",
    "    print(f\"Is divisible by 3\")\n",
    "else:\n",
    "    print(\"number is not good\")"
   ]
  },
  {
   "cell_type": "code",
   "execution_count": 523,
   "id": "183eba3c-69d1-4333-b36f-aea6fa7d407c",
   "metadata": {},
   "outputs": [
    {
     "name": "stdin",
     "output_type": "stream",
     "text": [
      " 27\n"
     ]
    },
    {
     "name": "stdout",
     "output_type": "stream",
     "text": [
      "Is divisible by 3\n"
     ]
    }
   ],
   "source": [
    "number = int(input())\n",
    "if number%2==0 and number%3==0:\n",
    "    print(f\"Is divisible by 2 and 3  \")\n",
    "elif number%2==0:\n",
    "    print(f\"Is divisible by 2 \")\n",
    "elif number%3==0:\n",
    "    print(f\"Is divisible by 3\")\n",
    "else:\n",
    "    print(\"number is not good\")"
   ]
  },
  {
   "cell_type": "code",
   "execution_count": 91,
   "id": "370686dd-8e75-483f-8445-7c860a0d91b4",
   "metadata": {},
   "outputs": [
    {
     "name": "stdin",
     "output_type": "stream",
     "text": [
      "Enter Nymber : -2\n"
     ]
    },
    {
     "name": "stdout",
     "output_type": "stream",
     "text": [
      "Number is NEgative\n"
     ]
    }
   ],
   "source": [
    "num = int(input(\"Enter Nymber :\"))\n",
    "if num>0:\n",
    "    print(\"Number is Positive\")\n",
    "else:\n",
    "    print(\"Number is NEgative\")"
   ]
  },
  {
   "cell_type": "markdown",
   "id": "8bb1ad83-fb62-4aeb-bb34-7820859e1508",
   "metadata": {},
   "source": [
    "# Range Function"
   ]
  },
  {
   "cell_type": "code",
   "execution_count": 13,
   "id": "18c873e0-84f3-43a6-a19b-c1fe8a88eb17",
   "metadata": {},
   "outputs": [
    {
     "data": {
      "text/plain": [
       "[0, 1, 2, 3, 4, 5]"
      ]
     },
     "execution_count": 13,
     "metadata": {},
     "output_type": "execute_result"
    }
   ],
   "source": [
    "list(range(6))"
   ]
  },
  {
   "cell_type": "code",
   "execution_count": 15,
   "id": "14352d63-9fa7-40f4-b06b-d90ff2c43683",
   "metadata": {},
   "outputs": [
    {
     "data": {
      "text/plain": [
       "(0, 1, 2, 3, 4, 5)"
      ]
     },
     "execution_count": 15,
     "metadata": {},
     "output_type": "execute_result"
    }
   ],
   "source": [
    "tuple(range(6))"
   ]
  },
  {
   "cell_type": "code",
   "execution_count": 17,
   "id": "e864c106-fdbd-4585-82f4-1602404c9562",
   "metadata": {},
   "outputs": [
    {
     "data": {
      "text/plain": [
       "{0, 1, 2, 3, 4, 5}"
      ]
     },
     "execution_count": 17,
     "metadata": {},
     "output_type": "execute_result"
    }
   ],
   "source": [
    "set(range(6))"
   ]
  },
  {
   "cell_type": "code",
   "execution_count": 19,
   "id": "2c3ee536-c01b-4ab6-8c27-24153c2212af",
   "metadata": {},
   "outputs": [
    {
     "data": {
      "text/plain": [
       "[0, 2, 4, 6, 8, 10, 12, 14]"
      ]
     },
     "execution_count": 19,
     "metadata": {},
     "output_type": "execute_result"
    }
   ],
   "source": [
    "list(range(0,15,2))"
   ]
  },
  {
   "cell_type": "code",
   "execution_count": 23,
   "id": "59df2657-89de-42b9-b0be-80b83724713f",
   "metadata": {},
   "outputs": [
    {
     "data": {
      "text/plain": [
       "(2, 5, 8, 11)"
      ]
     },
     "execution_count": 23,
     "metadata": {},
     "output_type": "execute_result"
    }
   ],
   "source": [
    "tuple(range(2,14,3))"
   ]
  },
  {
   "cell_type": "markdown",
   "id": "05509927-32af-4f4c-8876-41318d3086e0",
   "metadata": {},
   "source": [
    "# Range in For Loop"
   ]
  },
  {
   "cell_type": "code",
   "execution_count": 35,
   "id": "e5058f71-8db2-4a34-972b-5eb32bf74eaa",
   "metadata": {},
   "outputs": [
    {
     "name": "stdout",
     "output_type": "stream",
     "text": [
      "0\n",
      "1\n",
      "2\n",
      "3\n",
      "4\n",
      "5\n",
      "6\n",
      "7\n",
      "8\n",
      "9\n"
     ]
    }
   ],
   "source": [
    "for i in range(10):\n",
    "    print(i)"
   ]
  },
  {
   "cell_type": "code",
   "execution_count": 37,
   "id": "088f8320-c2f8-452d-bf4d-57e9c2dad61c",
   "metadata": {},
   "outputs": [
    {
     "name": "stdout",
     "output_type": "stream",
     "text": [
      "Hello World\n",
      "Hello World\n",
      "Hello World\n",
      "Hello World\n",
      "Hello World\n"
     ]
    }
   ],
   "source": [
    "for i in range(5):\n",
    "    print(\"Hello World\")"
   ]
  },
  {
   "cell_type": "code",
   "execution_count": 39,
   "id": "c6c1b84d-bb59-42c4-b35c-bf6aeb0a878d",
   "metadata": {},
   "outputs": [
    {
     "name": "stdout",
     "output_type": "stream",
     "text": [
      " 0 Hello World\n",
      " 1 Hello World\n",
      " 2 Hello World\n",
      " 3 Hello World\n",
      " 4 Hello World\n",
      " 5 Hello World\n",
      " 6 Hello World\n",
      " 7 Hello World\n",
      " 8 Hello World\n",
      " 9 Hello World\n"
     ]
    }
   ],
   "source": [
    "for i in range(10):\n",
    "    print(f\" {i} Hello World\")"
   ]
  },
  {
   "cell_type": "code",
   "execution_count": 43,
   "id": "ba04d47e-7b2d-4898-a736-dd8ff1df0982",
   "metadata": {},
   "outputs": [],
   "source": [
    "price = [10,20,30,40,50,60,70,80,90]\n"
   ]
  },
  {
   "cell_type": "code",
   "execution_count": 45,
   "id": "71f12725-ced2-4c7f-9868-4df8e056a5cc",
   "metadata": {},
   "outputs": [
    {
     "name": "stdout",
     "output_type": "stream",
     "text": [
      "850\n",
      "1700\n",
      "2550\n",
      "3400\n",
      "4250\n",
      "5100\n",
      "5950\n",
      "6800\n",
      "7650\n"
     ]
    }
   ],
   "source": [
    "for i in price:\n",
    "    print(i*85)"
   ]
  },
  {
   "cell_type": "code",
   "execution_count": 47,
   "id": "18bce0da-c08d-44d3-b8e8-7e6f0927dc72",
   "metadata": {},
   "outputs": [
    {
     "name": "stdout",
     "output_type": "stream",
     "text": [
      "[850]\n",
      "[850, 1700]\n",
      "[850, 1700, 2550]\n",
      "[850, 1700, 2550, 3400]\n",
      "[850, 1700, 2550, 3400, 4250]\n",
      "[850, 1700, 2550, 3400, 4250, 5100]\n",
      "[850, 1700, 2550, 3400, 4250, 5100, 5950]\n",
      "[850, 1700, 2550, 3400, 4250, 5100, 5950, 6800]\n",
      "[850, 1700, 2550, 3400, 4250, 5100, 5950, 6800, 7650]\n"
     ]
    }
   ],
   "source": [
    "price_usd = []\n",
    "\n",
    "for i in price:\n",
    "    price_usd.append(i*85)\n",
    "    print(price_usd)"
   ]
  },
  {
   "cell_type": "code",
   "execution_count": 59,
   "id": "fd0f8eaf-9ecb-454a-92fd-d8f76946e5f3",
   "metadata": {},
   "outputs": [
    {
     "name": "stdout",
     "output_type": "stream",
     "text": [
      "[10, 20, 30, 40, 50, 60, 70, 80, 90]\n",
      "[850, 1700, 2550, 3400, 4250, 5100, 5950, 6800, 7650]\n"
     ]
    }
   ],
   "source": [
    "inr_price = [10,20,30,40,50,60,70,80,90]\n",
    "new_usd_price = []\n",
    "for i in inr_price:\n",
    "    new_usd_price.append(i*85)\n",
    "print(inr_price)\n",
    "print(new_usd_price)"
   ]
  },
  {
   "cell_type": "code",
   "execution_count": 1,
   "id": "ff0bfbc7-07e5-48c0-af23-391a712bab75",
   "metadata": {},
   "outputs": [],
   "source": [
    "l1 = [10,20,30,40,50,60]\n"
   ]
  },
  {
   "cell_type": "code",
   "execution_count": 3,
   "id": "dd824ead-068d-40e4-bcf1-13e00a071e2a",
   "metadata": {},
   "outputs": [
    {
     "name": "stdout",
     "output_type": "stream",
     "text": [
      "10\n",
      "20\n",
      "30\n",
      "40\n",
      "50\n",
      "60\n"
     ]
    }
   ],
   "source": [
    "for i in range(len(l1)):\n",
    "    print(l1[i])"
   ]
  },
  {
   "cell_type": "code",
   "execution_count": 69,
   "id": "b7be71f6-c3f5-4411-92cd-7312fdd4421c",
   "metadata": {},
   "outputs": [
    {
     "name": "stdout",
     "output_type": "stream",
     "text": [
      "Even : [2, 4, 6, 8, 10, 12, 14, 16, 18, 20, 22, 24, 26, 28, 30, 32, 34, 36, 38, 40, 42, 44, 46, 48]\n",
      "Odd : [1, 3, 5, 7, 9, 11, 13, 15, 17, 19, 21, 23, 25, 27, 29, 31, 33, 35, 37, 39, 41, 43, 45, 47, 49]\n"
     ]
    }
   ],
   "source": [
    "# Even , Odd\n",
    "\n",
    "even = []\n",
    "odd = []\n",
    "for i in range(1,50):\n",
    "    if i%2 == 0:\n",
    "        even.append(i)\n",
    "    else:\n",
    "        odd.append(i)\n",
    "print(\"Even :\",even)\n",
    "print(\"Odd :\" , odd)"
   ]
  },
  {
   "cell_type": "code",
   "execution_count": 73,
   "id": "fe6c17e1-dcc4-475c-a566-636d9e93bf1b",
   "metadata": {},
   "outputs": [
    {
     "name": "stdout",
     "output_type": "stream",
     "text": [
      "even : [2, 4, 6, 8, 10, 12, 14, 16, 18, 20, 22, 24, 26, 28, 30, 32, 34, 36, 38, 40, 42, 44, 46, 48, 50, 52, 54, 56, 58, 60, 62, 64, 66, 68, 70, 72, 74, 76, 78, 80, 82, 84, 86, 88, 90, 92, 94, 96, 98, 100]\n"
     ]
    }
   ],
   "source": [
    "even = []\n",
    "\n",
    "for i in range(2,101,2):\n",
    "    even.append(i)\n",
    "print(\"even :\" , even)"
   ]
  },
  {
   "cell_type": "code",
   "execution_count": 75,
   "id": "cdef5415-f2c4-457d-8aaa-9c1bd2e31e95",
   "metadata": {},
   "outputs": [
    {
     "name": "stdout",
     "output_type": "stream",
     "text": [
      "odd :  [1, 3, 5, 7, 9, 11, 13, 15, 17, 19, 21, 23, 25, 27, 29, 31, 33, 35, 37, 39, 41, 43, 45, 47, 49, 51, 53, 55, 57, 59, 61, 63, 65, 67, 69, 71, 73, 75, 77, 79, 81, 83, 85, 87, 89, 91, 93, 95, 97, 99]\n"
     ]
    }
   ],
   "source": [
    "odd = []\n",
    "\n",
    "for i in range(1 , 101 , 2):\n",
    "    odd.append(i)\n",
    "print(\"odd : \" , odd)"
   ]
  },
  {
   "cell_type": "code",
   "execution_count": 93,
   "id": "dfac38c6-93c0-42fd-ac4e-2f4145bb1946",
   "metadata": {},
   "outputs": [],
   "source": [
    "# Create a for loop to print squares of elements of a list>\n",
    "# Append the square values from above code to a new list.\n",
    "# Seperate a given list to even list and odd list."
   ]
  },
  {
   "cell_type": "code",
   "execution_count": 95,
   "id": "8933a1de-e8a0-4285-8164-fd32db548af9",
   "metadata": {},
   "outputs": [],
   "source": [
    "from math import pow , sqrt"
   ]
  },
  {
   "cell_type": "code",
   "execution_count": 101,
   "id": "4ae21952-9754-4a97-9fdf-2dd07e477c4a",
   "metadata": {},
   "outputs": [
    {
     "data": {
      "text/plain": [
       "144.0"
      ]
     },
     "execution_count": 101,
     "metadata": {},
     "output_type": "execute_result"
    }
   ],
   "source": [
    "# Square of 12\n",
    "pow(12 , 2)"
   ]
  },
  {
   "cell_type": "code",
   "execution_count": 103,
   "id": "68c98d7e-106a-448b-aeb9-3515aae0eeae",
   "metadata": {},
   "outputs": [
    {
     "data": {
      "text/plain": [
       "12.0"
      ]
     },
     "execution_count": 103,
     "metadata": {},
     "output_type": "execute_result"
    }
   ],
   "source": [
    "# Square Root of 144\n",
    "sqrt(144)"
   ]
  },
  {
   "cell_type": "code",
   "execution_count": 119,
   "id": "eab08d7c-a6f5-49f1-8d8e-4e4e2caef44d",
   "metadata": {},
   "outputs": [
    {
     "name": "stdout",
     "output_type": "stream",
     "text": [
      "[100.0, 400.0, 900.0, 1600.0, 2500.0]\n"
     ]
    }
   ],
   "source": [
    "squ = [10,20,30,40,50]\n",
    "s = []\n",
    "for i in squ:\n",
    "    c = pow(i,2)\n",
    "    s.append(c)\n",
    "print(s)\n",
    "    "
   ]
  },
  {
   "cell_type": "code",
   "execution_count": 123,
   "id": "322895a5-6f30-474c-b19a-f499eabdfa64",
   "metadata": {},
   "outputs": [
    {
     "name": "stdout",
     "output_type": "stream",
     "text": [
      "[1156.0, 6241.0, 4225.0, 1024.0, 1681.0, 8100.0]\n",
      "[1156.0, 1024.0, 8100.0]\n",
      "[6241.0, 4225.0, 1681.0]\n"
     ]
    }
   ],
   "source": [
    "# create a for loop which takes each element from a list and generates square of that element\n",
    "l1 = [34,79,65,32,41,90]\n",
    "sq_nums = []\n",
    "even3 = []\n",
    "odd3 = []\n",
    "\n",
    "for i in l1:\n",
    "    c = pow(i , 2)\n",
    "    sq_nums.append(c)\n",
    "\n",
    "for i in sq_nums:\n",
    "    if i%2 == 0:\n",
    "        even3.append(i)\n",
    "    else:\n",
    "        odd3.append(i)\n",
    "print(sq_nums)\n",
    "print(even3)\n",
    "print(odd3)"
   ]
  },
  {
   "cell_type": "code",
   "execution_count": 125,
   "id": "fe3773cf-9dfd-4313-9878-cb43267b2629",
   "metadata": {},
   "outputs": [
    {
     "name": "stdout",
     "output_type": "stream",
     "text": [
      "[1156.0, 1024.0, 8100.0]\t[6241.0, 4225.0, 1681.0]\n"
     ]
    }
   ],
   "source": [
    "# Direct Ways\n",
    "\n",
    "even4 = []\n",
    "odd4 = []\n",
    "\n",
    "for i in l1:\n",
    "    c = pow(i , 2)\n",
    "    if c%2 == 0:\n",
    "        even4.append(c)\n",
    "    else:\n",
    "        odd4.append(c)\n",
    "print(even4 , odd4 , sep = \"\\t\")"
   ]
  },
  {
   "cell_type": "code",
   "execution_count": 133,
   "id": "698db47a-fb37-4139-a582-3790660c9d96",
   "metadata": {},
   "outputs": [
    {
     "name": "stdout",
     "output_type": "stream",
     "text": [
      "[34, 79, 65, 32, 41, 90]\n",
      "If Statement :[1156.0]\n",
      "Else Statement :[6241.0]\n",
      "Else Statement :[6241.0, 4225.0]\n",
      "If Statement :[1156.0, 1024.0]\n",
      "Else Statement :[6241.0, 4225.0, 1681.0]\n",
      "If Statement :[1156.0, 1024.0, 8100.0]\n"
     ]
    }
   ],
   "source": [
    "# what happens if we add print statement in an if else condition which is in a loop\n",
    "\n",
    "even4 = []\n",
    "odd4 = []\n",
    "print(l1) \n",
    "for i in l1:\n",
    "    c = pow(i,2)\n",
    "    if c%2 == 0:\n",
    "        even4.append(c)\n",
    "        print(f\"If Statement :{even4}\")\n",
    "    else:\n",
    "        odd4.append(c)\n",
    "        print(f\"Else Statement :{odd4}\")\n",
    "   "
   ]
  },
  {
   "cell_type": "code",
   "execution_count": 23,
   "id": "1652175f-c74a-4d80-8580-c4b5b089c5ec",
   "metadata": {},
   "outputs": [
    {
     "name": "stdin",
     "output_type": "stream",
     "text": [
      "Enter a number , I will output the factorial of that number 5\n"
     ]
    },
    {
     "name": "stdout",
     "output_type": "stream",
     "text": [
      "120\n"
     ]
    }
   ],
   "source": [
    "# Write a program which has for loop and gives factorial of a number\n",
    "\n",
    "n = int(input(\"Enter a number , I will output the factorial of that number\"))\n",
    "\n",
    "b = 1\n",
    "for i in range(1, n+1):\n",
    "    b = b*i\n",
    "print(b)\n",
    "\n",
    "    "
   ]
  },
  {
   "cell_type": "markdown",
   "id": "a3123e7e-835e-4e65-8150-7374126992c3",
   "metadata": {},
   "source": [
    "# While Loop"
   ]
  },
  {
   "cell_type": "code",
   "execution_count": 136,
   "id": "132e7de4-294c-4492-913d-397ed90065e5",
   "metadata": {},
   "outputs": [
    {
     "name": "stdout",
     "output_type": "stream",
     "text": [
      "0 Hello World\n",
      "1 Hello World\n",
      "2 Hello World\n",
      "3 Hello World\n",
      "4 Hello World\n",
      "5 Hello World\n",
      "6 Hello World\n",
      "7 Hello World\n",
      "8 Hello World\n",
      "9 Hello World\n",
      "10 Hello World\n",
      "11 Hello World\n",
      "12 Hello World\n",
      "13 Hello World\n",
      "14 Hello World\n",
      "15 Hello World\n",
      "16 Hello World\n",
      "17 Hello World\n",
      "18 Hello World\n",
      "19 Hello World\n",
      "20 Hello World\n",
      "21 Hello World\n",
      "22 Hello World\n",
      "23 Hello World\n",
      "24 Hello World\n",
      "25 Hello World\n",
      "26 Hello World\n",
      "27 Hello World\n",
      "28 Hello World\n",
      "29 Hello World\n",
      "30 Hello World\n",
      "31 Hello World\n",
      "32 Hello World\n",
      "33 Hello World\n",
      "34 Hello World\n",
      "35 Hello World\n",
      "36 Hello World\n",
      "37 Hello World\n",
      "38 Hello World\n",
      "39 Hello World\n",
      "40 Hello World\n",
      "41 Hello World\n",
      "42 Hello World\n",
      "43 Hello World\n",
      "44 Hello World\n",
      "45 Hello World\n",
      "46 Hello World\n",
      "47 Hello World\n",
      "48 Hello World\n",
      "49 Hello World\n",
      "50 Hello World\n"
     ]
    }
   ],
   "source": [
    "i = 0\n",
    "while i <= 50:\n",
    "    print(f\"{i} Hello World\")\n",
    "    i = i+1"
   ]
  },
  {
   "cell_type": "code",
   "execution_count": 9,
   "id": "6e49ca44-11a5-443d-9983-2291e55852e1",
   "metadata": {},
   "outputs": [
    {
     "name": "stdout",
     "output_type": "stream",
     "text": [
      "[10, 20, 30, 40, 50, 60]\n"
     ]
    }
   ],
   "source": [
    "print(l1)"
   ]
  },
  {
   "cell_type": "code",
   "execution_count": 7,
   "id": "55cb1b4d-a250-402b-845b-ef30b91f455a",
   "metadata": {},
   "outputs": [
    {
     "name": "stdout",
     "output_type": "stream",
     "text": [
      "10\n",
      "20\n",
      "30\n",
      "40\n",
      "50\n",
      "60\n"
     ]
    }
   ],
   "source": [
    "\n",
    "i = 0\n",
    "while i<len(l1):\n",
    "    print(l1[i])\n",
    "    i = i+1"
   ]
  },
  {
   "cell_type": "code",
   "execution_count": 138,
   "id": "fe139810-a782-4afd-94e7-fa13a490e2fe",
   "metadata": {},
   "outputs": [
    {
     "name": "stdout",
     "output_type": "stream",
     "text": [
      "0 Hello World\n",
      "3 Hello World\n",
      "6 Hello World\n",
      "9 Hello World\n",
      "12 Hello World\n",
      "15 Hello World\n",
      "18 Hello World\n",
      "21 Hello World\n",
      "24 Hello World\n",
      "27 Hello World\n",
      "30 Hello World\n",
      "33 Hello World\n",
      "36 Hello World\n",
      "39 Hello World\n",
      "42 Hello World\n",
      "45 Hello World\n",
      "48 Hello World\n"
     ]
    }
   ],
   "source": [
    "i = 0\n",
    "while i<=50:\n",
    "    print(f\"{i} Hello World\")\n",
    "    i = i+3"
   ]
  },
  {
   "cell_type": "code",
   "execution_count": 140,
   "id": "c851e56b-a241-422f-ab1c-fa2b31f684a6",
   "metadata": {},
   "outputs": [
    {
     "name": "stdout",
     "output_type": "stream",
     "text": [
      "2\n",
      "4\n",
      "6\n",
      "8\n",
      "10\n",
      "12\n",
      "14\n",
      "16\n",
      "18\n",
      "20\n",
      "22\n",
      "24\n",
      "26\n",
      "28\n",
      "30\n",
      "32\n",
      "34\n",
      "36\n",
      "38\n",
      "40\n",
      "42\n",
      "44\n",
      "46\n",
      "48\n",
      "50\n"
     ]
    }
   ],
   "source": [
    "i = 2\n",
    "while i<=50:\n",
    "    print(i)\n",
    "    i = i+2\n"
   ]
  },
  {
   "cell_type": "code",
   "execution_count": 142,
   "id": "c7b7bb4b-6552-48f8-a908-66f22e5d5101",
   "metadata": {},
   "outputs": [
    {
     "name": "stdout",
     "output_type": "stream",
     "text": [
      "[2, 3, 4, 5, 6, 7, 8, 9, 10, 11, 12, 13, 14, 15, 16, 17, 18, 19, 20, 21, 22, 23, 24, 25, 26, 27, 28, 29, 30, 31, 32, 33, 34, 35, 36, 37, 38, 39, 40, 41, 42, 43, 44, 45, 46, 47, 48, 49, 50]\n"
     ]
    }
   ],
   "source": [
    "even5 = []\n",
    "i = 2\n",
    "while i<=50:\n",
    "    even5.append(i)\n",
    "    i = i+1\n",
    "print(even5)"
   ]
  },
  {
   "cell_type": "code",
   "execution_count": 25,
   "id": "e9f926cc-2b6e-45c0-8fdd-8af4b51f755d",
   "metadata": {},
   "outputs": [],
   "source": [
    "# Factorial of number "
   ]
  },
  {
   "cell_type": "code",
   "execution_count": 32,
   "id": "c0bc8be5-03d4-4589-b5ae-56da30434154",
   "metadata": {},
   "outputs": [
    {
     "name": "stdin",
     "output_type": "stream",
     "text": [
      "PRovide the number 5\n"
     ]
    },
    {
     "name": "stdout",
     "output_type": "stream",
     "text": [
      "24\n"
     ]
    }
   ],
   "source": [
    "num = int(input(\"PRovide the number\"))\n",
    "b2 = 1\n",
    "i = 1\n",
    "while i< (num):\n",
    "    b2 = b2*i\n",
    "    i = i+1\n",
    "print(b2)\n"
   ]
  },
  {
   "cell_type": "code",
   "execution_count": 34,
   "id": "b5b712f4-7057-49b1-b158-670b16e59c20",
   "metadata": {},
   "outputs": [],
   "source": [
    "# For Loops < While Loops continued"
   ]
  },
  {
   "cell_type": "code",
   "execution_count": 36,
   "id": "49215bb0-6404-4e3c-89a8-370cf19d5ba3",
   "metadata": {},
   "outputs": [
    {
     "name": "stdout",
     "output_type": "stream",
     "text": [
      "10\n",
      "20\n",
      "30\n",
      "40\n",
      "50\n"
     ]
    }
   ],
   "source": [
    "l = [10,20,30,40,50]\n",
    "\n",
    "for i in l:\n",
    "    print(i)"
   ]
  },
  {
   "cell_type": "code",
   "execution_count": 38,
   "id": "42b28e99-e6f4-47f6-b8b6-d72b5f25e3d9",
   "metadata": {},
   "outputs": [
    {
     "name": "stdout",
     "output_type": "stream",
     "text": [
      "10\n",
      "20\n",
      "30\n",
      "40\n",
      "50\n"
     ]
    }
   ],
   "source": [
    "for i in range(len(l)):\n",
    "    print(l[i])"
   ]
  },
  {
   "cell_type": "code",
   "execution_count": 42,
   "id": "9d76776e-0580-4a05-95a3-4833883e1496",
   "metadata": {},
   "outputs": [
    {
     "name": "stdout",
     "output_type": "stream",
     "text": [
      "10\n",
      "20\n",
      "30\n",
      "40\n",
      "50\n"
     ]
    }
   ],
   "source": [
    "i = 0\n",
    "while i<len(l):\n",
    "    print(l[i])\n",
    "    i = i+1"
   ]
  },
  {
   "cell_type": "code",
   "execution_count": 44,
   "id": "4211eca2-469c-4ea6-b2ce-c08b535d9de1",
   "metadata": {},
   "outputs": [
    {
     "name": "stdout",
     "output_type": "stream",
     "text": [
      "10\n",
      "20\n",
      "30\n",
      "40\n"
     ]
    }
   ],
   "source": [
    "i = 0\n",
    "while i<4:\n",
    "    print(l[i])\n",
    "    i = i+1"
   ]
  },
  {
   "cell_type": "code",
   "execution_count": 46,
   "id": "fe4f9eaf-81ba-4795-bee3-1616da111bc9",
   "metadata": {},
   "outputs": [],
   "source": [
    "# Factorial Program"
   ]
  },
  {
   "cell_type": "code",
   "execution_count": 60,
   "id": "4090f618-208e-4638-b779-dbdcd97a66a4",
   "metadata": {},
   "outputs": [
    {
     "name": "stdin",
     "output_type": "stream",
     "text": [
      "Enter number : 10\n"
     ]
    },
    {
     "name": "stdout",
     "output_type": "stream",
     "text": [
      "Factorial of number 10 is 362880\n"
     ]
    }
   ],
   "source": [
    "num = int(input(\"Enter number :\"))\n",
    "\n",
    "b = 1\n",
    "for i in range(1,num):\n",
    "    b = b*i\n",
    "print(f\"Factorial of number {num} is {b}\" )"
   ]
  },
  {
   "cell_type": "code",
   "execution_count": 120,
   "id": "8833adc9-62e4-4d2d-945f-2f58c8ca741f",
   "metadata": {},
   "outputs": [
    {
     "name": "stdin",
     "output_type": "stream",
     "text": [
      "Enter number : 5\n"
     ]
    },
    {
     "name": "stdout",
     "output_type": "stream",
     "text": [
      "120\n"
     ]
    }
   ],
   "source": [
    "num = int(input(\"Enter number :\"))\n",
    "b = 1\n",
    "i = 1\n",
    "while i<num+1:\n",
    "    b = b*i\n",
    "    i = i+1\n",
    "print(b)"
   ]
  },
  {
   "cell_type": "code",
   "execution_count": 64,
   "id": "6e2b2354-ec3f-466d-966e-5a79529d3189",
   "metadata": {},
   "outputs": [
    {
     "data": {
      "text/plain": [
       "[10, 20, 30, 40, 50]"
      ]
     },
     "execution_count": 64,
     "metadata": {},
     "output_type": "execute_result"
    }
   ],
   "source": [
    "l\n"
   ]
  },
  {
   "cell_type": "code",
   "execution_count": 68,
   "id": "078487ab-2ba3-419f-89ef-368d25b7f3c9",
   "metadata": {},
   "outputs": [
    {
     "name": "stdout",
     "output_type": "stream",
     "text": [
      "10\n",
      "20\n",
      "30\n",
      "40\n",
      "50\n"
     ]
    }
   ],
   "source": [
    "i = 0\n",
    "while i < len(l):\n",
    "    print(l[i])\n",
    "    i = i+1"
   ]
  },
  {
   "cell_type": "code",
   "execution_count": 70,
   "id": "6a89019a-951e-4773-afa7-3b03f1c968c2",
   "metadata": {},
   "outputs": [],
   "source": [
    "l_1 = (15,52,63,48,6,68,15,941,6,151,4)"
   ]
  },
  {
   "cell_type": "code",
   "execution_count": 76,
   "id": "c02157b2-e95b-4681-95bf-5cdd3c1ad935",
   "metadata": {},
   "outputs": [
    {
     "name": "stdout",
     "output_type": "stream",
     "text": [
      "15\n",
      "52\n",
      "63\n",
      "48\n",
      "6\n",
      "68\n",
      "15\n",
      "941\n",
      "6\n",
      "151\n",
      "4\n"
     ]
    }
   ],
   "source": [
    "i = 0\n",
    "while i < len(l_1):\n",
    "    print(l_1[i])\n",
    "    i = i+1"
   ]
  },
  {
   "cell_type": "code",
   "execution_count": 78,
   "id": "a95e97b6-65c8-47be-930f-c3192ab409a9",
   "metadata": {},
   "outputs": [
    {
     "name": "stdout",
     "output_type": "stream",
     "text": [
      "(15, 52, 63, 48, 6, 68, 15, 941, 6, 151, 4)\n",
      "[225, 2704, 3969, 2304, 36, 4624, 225, 885481, 36, 22801, 16]\n"
     ]
    }
   ],
   "source": [
    "sq_num = []\n",
    "i = 0\n",
    "while i<len(l_1):\n",
    "    a = l_1[i]**2\n",
    "    sq_num.append(a)\n",
    "    i = i+1\n",
    "print(l_1)\n",
    "print(sq_num)"
   ]
  },
  {
   "cell_type": "code",
   "execution_count": 80,
   "id": "3131cada-eb74-4740-a5b9-9a59dbc8369b",
   "metadata": {},
   "outputs": [
    {
     "data": {
      "text/plain": [
       "<enumerate at 0x16e56d214e0>"
      ]
     },
     "execution_count": 80,
     "metadata": {},
     "output_type": "execute_result"
    }
   ],
   "source": [
    "enumerate(l_1)"
   ]
  },
  {
   "cell_type": "code",
   "execution_count": 82,
   "id": "2893bdf8-6236-4c11-b2b2-82564d9d76d9",
   "metadata": {},
   "outputs": [
    {
     "data": {
      "text/plain": [
       "[(0, 15),\n",
       " (1, 52),\n",
       " (2, 63),\n",
       " (3, 48),\n",
       " (4, 6),\n",
       " (5, 68),\n",
       " (6, 15),\n",
       " (7, 941),\n",
       " (8, 6),\n",
       " (9, 151),\n",
       " (10, 4)]"
      ]
     },
     "execution_count": 82,
     "metadata": {},
     "output_type": "execute_result"
    }
   ],
   "source": [
    "list(enumerate(l_1))"
   ]
  },
  {
   "cell_type": "code",
   "execution_count": 102,
   "id": "9d7bb07c-4105-4141-a541-9ff2f21b9254",
   "metadata": {},
   "outputs": [
    {
     "name": "stdout",
     "output_type": "stream",
     "text": [
      "[(100, 15), (101, 52), (102, 63), (103, 48), (104, 6), (105, 68), (106, 15), (107, 941), (108, 6), (109, 151), (110, 4)]\n"
     ]
    }
   ],
   "source": [
    "print(list(enumerate(l_1,100)))\n"
   ]
  },
  {
   "cell_type": "code",
   "execution_count": 92,
   "id": "0bef59d1-de8e-4371-90bc-fde0a97bc15b",
   "metadata": {},
   "outputs": [
    {
     "data": {
      "text/plain": [
       "((100, 15),\n",
       " (101, 52),\n",
       " (102, 63),\n",
       " (103, 48),\n",
       " (104, 6),\n",
       " (105, 68),\n",
       " (106, 15),\n",
       " (107, 941),\n",
       " (108, 6),\n",
       " (109, 151),\n",
       " (110, 4))"
      ]
     },
     "execution_count": 92,
     "metadata": {},
     "output_type": "execute_result"
    }
   ],
   "source": [
    "tuple(enumerate(l_1,100))"
   ]
  },
  {
   "cell_type": "code",
   "execution_count": 104,
   "id": "8e0c6143-43c1-4a2f-880e-cffb0dca4d47",
   "metadata": {},
   "outputs": [
    {
     "name": "stdout",
     "output_type": "stream",
     "text": [
      "(0, 15)\n",
      "(1, 52)\n",
      "(2, 63)\n",
      "(3, 48)\n",
      "(4, 6)\n",
      "(5, 68)\n",
      "(6, 15)\n",
      "(7, 941)\n",
      "(8, 6)\n",
      "(9, 151)\n",
      "(10, 4)\n"
     ]
    }
   ],
   "source": [
    "for i in enumerate(l_1):\n",
    "    print(i)"
   ]
  },
  {
   "cell_type": "code",
   "execution_count": 106,
   "id": "edf69758-acac-47db-ba3c-630a44708be5",
   "metadata": {},
   "outputs": [],
   "source": [
    "emp_data = [[101 , \"KShitij\"] , [102 , \"Ramesh\"] , [103 , \"Suraj\"] , [104 , \"Rupesh\"]]"
   ]
  },
  {
   "cell_type": "code",
   "execution_count": 108,
   "id": "70c39f38-6d23-4fb5-9a74-a2b9649bc6fb",
   "metadata": {},
   "outputs": [
    {
     "name": "stdout",
     "output_type": "stream",
     "text": [
      "[101, 'KShitij']\n",
      "[102, 'Ramesh']\n",
      "[103, 'Suraj']\n",
      "[104, 'Rupesh']\n"
     ]
    }
   ],
   "source": [
    "for i in emp_data:\n",
    "    print(i)"
   ]
  },
  {
   "cell_type": "code",
   "execution_count": 112,
   "id": "a98fd65e-9671-498b-a6c7-01f101776b26",
   "metadata": {},
   "outputs": [
    {
     "name": "stdout",
     "output_type": "stream",
     "text": [
      "101 KShitij\n",
      "102 Ramesh\n",
      "103 Suraj\n",
      "104 Rupesh\n"
     ]
    }
   ],
   "source": [
    "for i,j in emp_data:\n",
    "    print(i,j)"
   ]
  },
  {
   "cell_type": "code",
   "execution_count": 116,
   "id": "4102c409-8523-4544-89b6-8d4c9282faa4",
   "metadata": {},
   "outputs": [
    {
     "name": "stdout",
     "output_type": "stream",
     "text": [
      "Employee Data Name is KShitij and ID is 101\n",
      "Employee Data Name is Ramesh and ID is 102\n",
      "Employee Data Name is Suraj and ID is 103\n",
      "Employee Data Name is Rupesh and ID is 104\n"
     ]
    }
   ],
   "source": [
    "for i , j in emp_data:\n",
    "    print(f\"Employee Data Name is {j} and ID is {i}\")"
   ]
  },
  {
   "cell_type": "code",
   "execution_count": 118,
   "id": "4e3eb074-103f-4f98-add4-1f744ce5db33",
   "metadata": {},
   "outputs": [
    {
     "data": {
      "text/plain": [
       "[(0, 15),\n",
       " (1, 52),\n",
       " (2, 63),\n",
       " (3, 48),\n",
       " (4, 6),\n",
       " (5, 68),\n",
       " (6, 15),\n",
       " (7, 941),\n",
       " (8, 6),\n",
       " (9, 151),\n",
       " (10, 4)]"
      ]
     },
     "execution_count": 118,
     "metadata": {},
     "output_type": "execute_result"
    }
   ],
   "source": [
    "list(enumerate(l_1))"
   ]
  },
  {
   "cell_type": "code",
   "execution_count": 122,
   "id": "7b97861c-146d-40ed-a1b7-ed1fd2c7bd88",
   "metadata": {},
   "outputs": [
    {
     "name": "stdout",
     "output_type": "stream",
     "text": [
      "(0, 15)\n",
      "(1, 52)\n",
      "(2, 63)\n",
      "(3, 48)\n",
      "(4, 6)\n",
      "(5, 68)\n",
      "(6, 15)\n",
      "(7, 941)\n",
      "(8, 6)\n",
      "(9, 151)\n",
      "(10, 4)\n"
     ]
    }
   ],
   "source": [
    "for i in enumerate(l_1):\n",
    "    print(i)\n"
   ]
  },
  {
   "cell_type": "markdown",
   "id": "d00db659-9ef4-4d45-893e-53e45c5276d6",
   "metadata": {},
   "source": [
    "# Dictionaries"
   ]
  },
  {
   "cell_type": "code",
   "execution_count": 4,
   "id": "02996656-b38d-4b0d-a38d-80584747d298",
   "metadata": {},
   "outputs": [],
   "source": [
    "s1 = {101,102,103,255,51,65}"
   ]
  },
  {
   "cell_type": "code",
   "execution_count": 6,
   "id": "f14caa65-f2fa-4d85-8762-3c256badd19c",
   "metadata": {},
   "outputs": [
    {
     "data": {
      "text/plain": [
       "{51, 65, 101, 102, 103, 255}"
      ]
     },
     "execution_count": 6,
     "metadata": {},
     "output_type": "execute_result"
    }
   ],
   "source": [
    "s1"
   ]
  },
  {
   "cell_type": "code",
   "execution_count": 8,
   "id": "d0b738ec-0164-44af-8a22-be75ba9f6fc1",
   "metadata": {},
   "outputs": [
    {
     "data": {
      "text/plain": [
       "set"
      ]
     },
     "execution_count": 8,
     "metadata": {},
     "output_type": "execute_result"
    }
   ],
   "source": [
    "type(s1)"
   ]
  },
  {
   "cell_type": "code",
   "execution_count": 10,
   "id": "8ae7f016-19af-4096-8477-46518dc13d93",
   "metadata": {},
   "outputs": [],
   "source": [
    "emp_ids = {101:\"Ram\" , 102:\"Sham\" , 103:\"kamlesh\" , 104:\"ramesh\"}"
   ]
  },
  {
   "cell_type": "code",
   "execution_count": 13,
   "id": "debcedec-ea3d-4110-85fd-b7b2a01a0437",
   "metadata": {},
   "outputs": [
    {
     "data": {
      "text/plain": [
       "dict"
      ]
     },
     "execution_count": 13,
     "metadata": {},
     "output_type": "execute_result"
    }
   ],
   "source": [
    "type(emp_ids)"
   ]
  },
  {
   "cell_type": "code",
   "execution_count": 15,
   "id": "ccb8df7c-4367-47a5-b950-17ba71fb750b",
   "metadata": {},
   "outputs": [
    {
     "data": {
      "text/plain": [
       "dict_keys([101, 102, 103, 104])"
      ]
     },
     "execution_count": 15,
     "metadata": {},
     "output_type": "execute_result"
    }
   ],
   "source": [
    "emp_ids.keys()"
   ]
  },
  {
   "cell_type": "code",
   "execution_count": 17,
   "id": "9729182a-15fc-4cd4-acd8-7d415f1881b3",
   "metadata": {},
   "outputs": [
    {
     "data": {
      "text/plain": [
       "dict_values(['Ram', 'Sham', 'kamlesh', 'ramesh'])"
      ]
     },
     "execution_count": 17,
     "metadata": {},
     "output_type": "execute_result"
    }
   ],
   "source": [
    "emp_ids.values()"
   ]
  },
  {
   "cell_type": "code",
   "execution_count": 19,
   "id": "7321cef7-d006-46ae-ad5e-ed4be8da47b7",
   "metadata": {},
   "outputs": [
    {
     "data": {
      "text/plain": [
       "dict_items([(101, 'Ram'), (102, 'Sham'), (103, 'kamlesh'), (104, 'ramesh')])"
      ]
     },
     "execution_count": 19,
     "metadata": {},
     "output_type": "execute_result"
    }
   ],
   "source": [
    "emp_ids.items()"
   ]
  },
  {
   "cell_type": "code",
   "execution_count": 21,
   "id": "96f5dc60-6fee-43a3-917d-b883aaa89ca0",
   "metadata": {},
   "outputs": [],
   "source": [
    "temp = {1.0:98.7 , 2.0:98.63 , 3.0:78.25 , 4.0:96.36}"
   ]
  },
  {
   "cell_type": "code",
   "execution_count": 24,
   "id": "cb2711a5-c11f-49bc-a63c-92c2d2e11f70",
   "metadata": {},
   "outputs": [
    {
     "data": {
      "text/plain": [
       "{1.0: 98.7, 2.0: 98.63, 3.0: 78.25, 4.0: 96.36}"
      ]
     },
     "execution_count": 24,
     "metadata": {},
     "output_type": "execute_result"
    }
   ],
   "source": [
    "temp"
   ]
  },
  {
   "cell_type": "code",
   "execution_count": 28,
   "id": "271e1700-65d8-4070-ba5a-44d13168df48",
   "metadata": {},
   "outputs": [
    {
     "name": "stdout",
     "output_type": "stream",
     "text": [
      "78.25\n",
      "98.7\n"
     ]
    }
   ],
   "source": [
    "print(temp[3.0])\n",
    "print(temp[1.0])"
   ]
  },
  {
   "cell_type": "code",
   "execution_count": 30,
   "id": "3ab87862-a595-495f-84c6-b0c5dcc74ad3",
   "metadata": {},
   "outputs": [],
   "source": [
    "# It does not  take duplicate keys , if we insert duplicate key  then it will take latest key inserted and remove last duplicate key\n",
    "\n",
    "temp = {1.0:98.7 , 2.0:98.63 , 3.0:78.25 , 4.0:96.36 , 1.0:55.55}"
   ]
  },
  {
   "cell_type": "code",
   "execution_count": 34,
   "id": "e062fed6-6399-4434-9bc2-59f0f3695213",
   "metadata": {},
   "outputs": [
    {
     "data": {
      "text/plain": [
       "{1.0: 55.55, 2.0: 98.63, 3.0: 78.25, 4.0: 96.36}"
      ]
     },
     "execution_count": 34,
     "metadata": {},
     "output_type": "execute_result"
    }
   ],
   "source": [
    "# As it takes 1.0 key's latest value 55.55\n",
    "temp"
   ]
  },
  {
   "cell_type": "code",
   "execution_count": 38,
   "id": "a8755542-f5fd-402c-b918-bd545af8ee2f",
   "metadata": {},
   "outputs": [],
   "source": [
    "emp_data = {\"ids\":[101,102,103,104] , \"name\":[\"Ramesh\" , \"Suresh\" , \"Ganesh\" , \"Naresh\"] , \"dept\":[\"HR\" , \"SALES\" , \"MRKT\" , \"IT\"] , \"mgr_ids\":[101,102,103,104]}"
   ]
  },
  {
   "cell_type": "code",
   "execution_count": 41,
   "id": "10665782-3b8a-4e81-8869-6bf3f69d330a",
   "metadata": {},
   "outputs": [
    {
     "data": {
      "text/plain": [
       "{'ids': [101, 102, 103, 104],\n",
       " 'name': ['Ramesh', 'Suresh', 'Ganesh', 'Naresh'],\n",
       " 'dept': ['HR', 'SALES', 'MRKT', 'IT'],\n",
       " 'mgr_ids': [101, 102, 103, 104]}"
      ]
     },
     "execution_count": 41,
     "metadata": {},
     "output_type": "execute_result"
    }
   ],
   "source": [
    "emp_data"
   ]
  },
  {
   "cell_type": "code",
   "execution_count": 44,
   "id": "2b9b0fb2-23fc-4d04-acf2-9dc1fee6005d",
   "metadata": {},
   "outputs": [
    {
     "data": {
      "text/plain": [
       "dict_items([('ids', [101, 102, 103, 104]), ('name', ['Ramesh', 'Suresh', 'Ganesh', 'Naresh']), ('dept', ['HR', 'SALES', 'MRKT', 'IT']), ('mgr_ids', [101, 102, 103, 104])])"
      ]
     },
     "execution_count": 44,
     "metadata": {},
     "output_type": "execute_result"
    }
   ],
   "source": [
    "emp_data.items()"
   ]
  },
  {
   "cell_type": "code",
   "execution_count": 47,
   "id": "46b1d0fb-3544-47db-b247-0226b309a26c",
   "metadata": {},
   "outputs": [],
   "source": [
    "emp_data2 = {\"ids\":[101,102,103,104] , \"name\":[\"Ramesh\" , \"Suresh\" , \"Ganesh\" , \"Naresh\"] , \"dept\":[\"HR\" , \"SALES\" , \"MRKT\" , \"IT\"] , \"mgr_ids\":[101,102,103,104]}"
   ]
  },
  {
   "cell_type": "code",
   "execution_count": 49,
   "id": "b30f36af-f9d8-4719-9353-752ad880cb19",
   "metadata": {},
   "outputs": [
    {
     "data": {
      "text/plain": [
       "{'ids': [101, 102, 103, 104],\n",
       " 'name': ['Ramesh', 'Suresh', 'Ganesh', 'Naresh'],\n",
       " 'dept': ['HR', 'SALES', 'MRKT', 'IT'],\n",
       " 'mgr_ids': [101, 102, 103, 104]}"
      ]
     },
     "execution_count": 49,
     "metadata": {},
     "output_type": "execute_result"
    }
   ],
   "source": [
    "emp_data2"
   ]
  },
  {
   "cell_type": "code",
   "execution_count": 53,
   "id": "eccb3b80-7ea4-4e89-a29a-d2171e23ee33",
   "metadata": {},
   "outputs": [
    {
     "name": "stdout",
     "output_type": "stream",
     "text": [
      "['Ramesh', 'Suresh', 'Ganesh', 'Naresh']\n",
      "['HR', 'SALES', 'MRKT', 'IT']\n",
      "[101, 102, 103, 104]\n"
     ]
    }
   ],
   "source": [
    "print(emp_data2[\"name\"])\n",
    "print(emp_data2[\"dept\"])\n",
    "print(emp_data2[\"mgr_ids\"])"
   ]
  },
  {
   "cell_type": "code",
   "execution_count": 59,
   "id": "3eb8917b-4c15-4312-b57c-983ab167373d",
   "metadata": {},
   "outputs": [
    {
     "name": "stdout",
     "output_type": "stream",
     "text": [
      "Keys Data: ids\n",
      "Values Data: [101, 102, 103, 104]\n",
      "Keys Data: name\n",
      "Values Data: ['Ramesh', 'Suresh', 'Ganesh', 'Naresh']\n",
      "Keys Data: dept\n",
      "Values Data: ['HR', 'SALES', 'MRKT', 'IT']\n",
      "Keys Data: mgr_ids\n",
      "Values Data: [101, 102, 103, 104]\n"
     ]
    }
   ],
   "source": [
    "for i,j in emp_data2.items():\n",
    "    print(f\"Keys Data: {i}\")\n",
    "    print(f\"Values Data: {j}\")"
   ]
  },
  {
   "cell_type": "code",
   "execution_count": 61,
   "id": "d08b5e59-d776-4873-b362-88719ee02338",
   "metadata": {},
   "outputs": [
    {
     "name": "stdout",
     "output_type": "stream",
     "text": [
      "ids\n",
      "name\n",
      "dept\n",
      "mgr_ids\n"
     ]
    }
   ],
   "source": [
    "for i in emp_data2.keys():\n",
    "    print(i)"
   ]
  },
  {
   "cell_type": "code",
   "execution_count": 63,
   "id": "f9689121-b10c-4394-9c83-c32b07fe4d4e",
   "metadata": {},
   "outputs": [
    {
     "name": "stdout",
     "output_type": "stream",
     "text": [
      "[101, 102, 103, 104]\n",
      "['Ramesh', 'Suresh', 'Ganesh', 'Naresh']\n",
      "['HR', 'SALES', 'MRKT', 'IT']\n",
      "[101, 102, 103, 104]\n"
     ]
    }
   ],
   "source": [
    "for i in emp_data2.values():\n",
    "    print(i)"
   ]
  },
  {
   "cell_type": "markdown",
   "id": "f49f96b1-4729-4918-a7a0-2217fc87c804",
   "metadata": {},
   "source": [
    "# Functions"
   ]
  },
  {
   "cell_type": "markdown",
   "id": "f2464966-2324-4bbf-9161-ff4f8041ab09",
   "metadata": {},
   "source": [
    "## Built_In Functions"
   ]
  },
  {
   "cell_type": "code",
   "execution_count": 68,
   "id": "f1778766-2fee-470e-abb8-6e59dd81404e",
   "metadata": {},
   "outputs": [
    {
     "data": {
      "text/plain": [
       "{'ids': [101, 102, 103, 104],\n",
       " 'name': ['Ramesh', 'Suresh', 'Ganesh', 'Naresh'],\n",
       " 'dept': ['HR', 'SALES', 'MRKT', 'IT'],\n",
       " 'mgr_ids': [101, 102, 103, 104]}"
      ]
     },
     "execution_count": 68,
     "metadata": {},
     "output_type": "execute_result"
    }
   ],
   "source": [
    "emp_data2"
   ]
  },
  {
   "cell_type": "code",
   "execution_count": 82,
   "id": "cb98e284-6f35-4676-b4cf-79ae6df30484",
   "metadata": {},
   "outputs": [],
   "source": [
    "salaries = (2500,3500,4000,5000,2500)"
   ]
  },
  {
   "cell_type": "code",
   "execution_count": 84,
   "id": "d568e663-8f62-4c64-a415-941005924d58",
   "metadata": {},
   "outputs": [],
   "source": [
    "marks = [56,65,45,78,78,78]"
   ]
  },
  {
   "cell_type": "code",
   "execution_count": 90,
   "id": "537cf33b-3748-4679-9589-e6eb61bea483",
   "metadata": {},
   "outputs": [
    {
     "name": "stdout",
     "output_type": "stream",
     "text": [
      "17500\n",
      "400\n",
      "5000\n",
      "45\n",
      "2500 Appears 2 times in salaries tuple 2\n",
      "78 Appears 3 times in marks list 3\n"
     ]
    }
   ],
   "source": [
    "print(sum(salaries))\n",
    "print(sum(marks))\n",
    "print(max(salaries))\n",
    "print(min(marks))\n",
    "print(\"2500 Appears 2 times in salaries tuple\",salaries.count(2500))\n",
    "print(\"78 Appears 3 times in marks list\",marks.count(78))"
   ]
  },
  {
   "cell_type": "code",
   "execution_count": null,
   "id": "9a257d92-9a66-44f6-a354-bf0a901b8d67",
   "metadata": {},
   "outputs": [],
   "source": []
  },
  {
   "cell_type": "code",
   "execution_count": null,
   "id": "af051d74-7ca2-4fc3-9100-9c790c52b0c7",
   "metadata": {},
   "outputs": [],
   "source": []
  },
  {
   "cell_type": "code",
   "execution_count": null,
   "id": "df882b46-0892-4435-808b-65b4d269b59d",
   "metadata": {},
   "outputs": [],
   "source": []
  },
  {
   "cell_type": "code",
   "execution_count": null,
   "id": "6aa96c88-a8da-4392-80c6-40292107607f",
   "metadata": {},
   "outputs": [],
   "source": []
  },
  {
   "cell_type": "code",
   "execution_count": null,
   "id": "962d6117-8cb8-4983-ae8a-f3e8bf3ab83b",
   "metadata": {},
   "outputs": [],
   "source": []
  },
  {
   "cell_type": "code",
   "execution_count": null,
   "id": "ba7e9b32-122a-4f7e-ba46-3cf0ec668799",
   "metadata": {},
   "outputs": [],
   "source": []
  },
  {
   "cell_type": "code",
   "execution_count": null,
   "id": "9c56ca97-6aa7-4a49-af1a-957e302b35cc",
   "metadata": {},
   "outputs": [],
   "source": []
  },
  {
   "cell_type": "code",
   "execution_count": null,
   "id": "04fb5b10-223b-492e-bfd6-05e4b1762a47",
   "metadata": {},
   "outputs": [],
   "source": []
  },
  {
   "cell_type": "code",
   "execution_count": null,
   "id": "5c8733fd-684d-4b86-9d0e-914da3a7b566",
   "metadata": {},
   "outputs": [],
   "source": []
  },
  {
   "cell_type": "code",
   "execution_count": null,
   "id": "eca0ee96-7ac6-466b-8623-70cf2f59b05d",
   "metadata": {},
   "outputs": [],
   "source": []
  },
  {
   "cell_type": "code",
   "execution_count": null,
   "id": "8945a206-c01b-471d-bede-7035d871ea1d",
   "metadata": {},
   "outputs": [],
   "source": []
  },
  {
   "cell_type": "code",
   "execution_count": null,
   "id": "2ca6f739-f867-4d68-bac5-4b9871e0a09c",
   "metadata": {},
   "outputs": [],
   "source": []
  },
  {
   "cell_type": "code",
   "execution_count": null,
   "id": "373c5dcd-7a89-4c04-bb2c-ce99430280e3",
   "metadata": {},
   "outputs": [],
   "source": []
  }
 ],
 "metadata": {
  "kernelspec": {
   "display_name": "Python [conda env:base] *",
   "language": "python",
   "name": "conda-base-py"
  },
  "language_info": {
   "codemirror_mode": {
    "name": "ipython",
    "version": 3
   },
   "file_extension": ".py",
   "mimetype": "text/x-python",
   "name": "python",
   "nbconvert_exporter": "python",
   "pygments_lexer": "ipython3",
   "version": "3.12.7"
  }
 },
 "nbformat": 4,
 "nbformat_minor": 5
}
